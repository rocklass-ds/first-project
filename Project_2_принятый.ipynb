{
 "cells": [
  {
   "cell_type": "markdown",
   "id": "e0187e7d",
   "metadata": {},
   "source": [
    "<b>Привет!</b>\n",
    "\n",
    "Меня зовут Харочкина Екатерина, и я буду проверять твой проект. Давай общаться на «ты», но если это неудобно, пожалуйста, сообщи. Моя основная цель — не указать на совершенные тобою ошибки, а поделиться своим опытом и помочь тебе совершенствоваться как профессионалу.\n",
    "\n",
    "Ты подготовил замечательный проект, но есть аспекты, которые еще можно улучшить. Я буду использовать комментарии с цветовой разметкой. Пожалуйста, **не перемещай, не изменяй и не удаляй их**. Это поможет выполнить повторную проверку твоего проекта оперативнее.\n",
    "\n",
    "<div class=\"alert alert-danger\">\n",
    "<b>Комментарий ревьюера №1</b> ❌\n",
    "    \n",
    "Таким комментарием выделены самые важные замечания. Без их отработки проект не будет принят.\n",
    "</div>\n",
    "\n",
    "<div class=\"alert alert-warning\">\n",
    "<b>Комментарий ревьюера №1</b> ⚠️\n",
    "    \n",
    "Таким комментарием выделены небольшие замечания и рекомендации, которые будет хорошо учесть.\n",
    "</div>\n",
    "\n",
    "<div class=\"alert alert-success\">\n",
    "<b>Комментарий ревьюера №1</b> ✅\n",
    "    \n",
    "Таким комментарием выделены удачные решения🙂\n",
    "</div>\n",
    "\n",
    "Свои комментарии ты можешь помечать синим цветом.\n",
    "\n",
    "<div class=\"alert alert-info\">\n",
    "<b>Комментарий студента №1</b>\n",
    "    \n",
    "Так ты можешь оформить свой комментарий\n",
    "</div>\n",
    "\n",
    "Давай работать над проектом в диалоге: если ты **что-то меняешь** в проекте по моим рекомендациям — **пиши об этом**. После того, как ты все доработаешь, я смогу принять твой проект!) "
   ]
  },
  {
   "cell_type": "markdown",
   "id": "087ecbc7",
   "metadata": {
    "deletable": false,
    "editable": false,
    "id": "c81daeeb"
   },
   "source": [
    "# Исследование надежности заемщиков\n"
   ]
  },
  {
   "cell_type": "markdown",
   "id": "9db7a4c4",
   "metadata": {},
   "source": [
    "<div class=\"alert alert-success\">\n",
    "<b>Комментарий ревьюера №1</b> ✅\n",
    "    \n",
    "Хорошая практика начинать проект с контекста, описания задачи, возможного хода исследования, а также описания имеющихся данных. Можно тут также добавить содержание с гиперссылками. Про оформление работы можно почитать в материалах курса:\n",
    "    \n",
    "`Полезные инструкции для учёбы - Оформление проекта - Рекомендации по выполнению проектов`\n",
    "</div>"
   ]
  },
  {
   "cell_type": "markdown",
   "id": "252dd006",
   "metadata": {
    "deletable": false,
    "editable": false,
    "id": "827c20bf"
   },
   "source": [
    "Во второй части проекта вы выполните шаги 3 и 4. Их вручную проверит ревьюер.\n",
    "Чтобы вам не пришлось писать код заново для шагов 1 и 2, мы добавили авторские решения в ячейки с кодом. \n",
    "\n"
   ]
  },
  {
   "cell_type": "markdown",
   "id": "43efae40",
   "metadata": {
    "deletable": false,
    "editable": false,
    "id": "744d7639"
   },
   "source": [
    "## Откройте таблицу и изучите общую информацию о данных"
   ]
  },
  {
   "cell_type": "markdown",
   "id": "ee62995f",
   "metadata": {
    "deletable": false,
    "editable": false,
    "id": "e7a14c31"
   },
   "source": [
    "**Задание 1. Импортируйте библиотеку pandas. Считайте данные из csv-файла в датафрейм и сохраните в переменную `data`. Путь к файлу:**\n",
    "\n",
    "`/datasets/data.csv`"
   ]
  },
  {
   "cell_type": "code",
   "execution_count": 215,
   "id": "26b31008",
   "metadata": {
    "deletable": false,
    "id": "7bcf75c9"
   },
   "outputs": [],
   "source": [
    "import pandas as pd\n",
    "\n",
    "try:\n",
    "    data = pd.read_csv('/datasets/data.csv')\n",
    "except:\n",
    "    data = pd.read_csv('https://code.s3.yandex.net/datasets/data.csv')"
   ]
  },
  {
   "cell_type": "markdown",
   "id": "24f03dc7",
   "metadata": {
    "deletable": false,
    "editable": false,
    "id": "b8038fe3"
   },
   "source": [
    "**Задание 2. Выведите первые 20 строчек датафрейма `data` на экран.**"
   ]
  },
  {
   "cell_type": "code",
   "execution_count": 216,
   "id": "4d4f4496",
   "metadata": {
    "deletable": false,
    "id": "2a7cab99",
    "outputId": "1a8f3ef2-d323-4ec2-ddf7-89670b5944c4"
   },
   "outputs": [
    {
     "data": {
      "text/html": [
       "<div>\n",
       "<style scoped>\n",
       "    .dataframe tbody tr th:only-of-type {\n",
       "        vertical-align: middle;\n",
       "    }\n",
       "\n",
       "    .dataframe tbody tr th {\n",
       "        vertical-align: top;\n",
       "    }\n",
       "\n",
       "    .dataframe thead th {\n",
       "        text-align: right;\n",
       "    }\n",
       "</style>\n",
       "<table border=\"1\" class=\"dataframe\">\n",
       "  <thead>\n",
       "    <tr style=\"text-align: right;\">\n",
       "      <th></th>\n",
       "      <th>children</th>\n",
       "      <th>days_employed</th>\n",
       "      <th>dob_years</th>\n",
       "      <th>education</th>\n",
       "      <th>education_id</th>\n",
       "      <th>family_status</th>\n",
       "      <th>family_status_id</th>\n",
       "      <th>gender</th>\n",
       "      <th>income_type</th>\n",
       "      <th>debt</th>\n",
       "      <th>total_income</th>\n",
       "      <th>purpose</th>\n",
       "    </tr>\n",
       "  </thead>\n",
       "  <tbody>\n",
       "    <tr>\n",
       "      <th>0</th>\n",
       "      <td>1</td>\n",
       "      <td>-8437.673028</td>\n",
       "      <td>42</td>\n",
       "      <td>высшее</td>\n",
       "      <td>0</td>\n",
       "      <td>женат / замужем</td>\n",
       "      <td>0</td>\n",
       "      <td>F</td>\n",
       "      <td>сотрудник</td>\n",
       "      <td>0</td>\n",
       "      <td>253875.639453</td>\n",
       "      <td>покупка жилья</td>\n",
       "    </tr>\n",
       "    <tr>\n",
       "      <th>1</th>\n",
       "      <td>1</td>\n",
       "      <td>-4024.803754</td>\n",
       "      <td>36</td>\n",
       "      <td>среднее</td>\n",
       "      <td>1</td>\n",
       "      <td>женат / замужем</td>\n",
       "      <td>0</td>\n",
       "      <td>F</td>\n",
       "      <td>сотрудник</td>\n",
       "      <td>0</td>\n",
       "      <td>112080.014102</td>\n",
       "      <td>приобретение автомобиля</td>\n",
       "    </tr>\n",
       "    <tr>\n",
       "      <th>2</th>\n",
       "      <td>0</td>\n",
       "      <td>-5623.422610</td>\n",
       "      <td>33</td>\n",
       "      <td>Среднее</td>\n",
       "      <td>1</td>\n",
       "      <td>женат / замужем</td>\n",
       "      <td>0</td>\n",
       "      <td>M</td>\n",
       "      <td>сотрудник</td>\n",
       "      <td>0</td>\n",
       "      <td>145885.952297</td>\n",
       "      <td>покупка жилья</td>\n",
       "    </tr>\n",
       "    <tr>\n",
       "      <th>3</th>\n",
       "      <td>3</td>\n",
       "      <td>-4124.747207</td>\n",
       "      <td>32</td>\n",
       "      <td>среднее</td>\n",
       "      <td>1</td>\n",
       "      <td>женат / замужем</td>\n",
       "      <td>0</td>\n",
       "      <td>M</td>\n",
       "      <td>сотрудник</td>\n",
       "      <td>0</td>\n",
       "      <td>267628.550329</td>\n",
       "      <td>дополнительное образование</td>\n",
       "    </tr>\n",
       "    <tr>\n",
       "      <th>4</th>\n",
       "      <td>0</td>\n",
       "      <td>340266.072047</td>\n",
       "      <td>53</td>\n",
       "      <td>среднее</td>\n",
       "      <td>1</td>\n",
       "      <td>гражданский брак</td>\n",
       "      <td>1</td>\n",
       "      <td>F</td>\n",
       "      <td>пенсионер</td>\n",
       "      <td>0</td>\n",
       "      <td>158616.077870</td>\n",
       "      <td>сыграть свадьбу</td>\n",
       "    </tr>\n",
       "    <tr>\n",
       "      <th>5</th>\n",
       "      <td>0</td>\n",
       "      <td>-926.185831</td>\n",
       "      <td>27</td>\n",
       "      <td>высшее</td>\n",
       "      <td>0</td>\n",
       "      <td>гражданский брак</td>\n",
       "      <td>1</td>\n",
       "      <td>M</td>\n",
       "      <td>компаньон</td>\n",
       "      <td>0</td>\n",
       "      <td>255763.565419</td>\n",
       "      <td>покупка жилья</td>\n",
       "    </tr>\n",
       "    <tr>\n",
       "      <th>6</th>\n",
       "      <td>0</td>\n",
       "      <td>-2879.202052</td>\n",
       "      <td>43</td>\n",
       "      <td>высшее</td>\n",
       "      <td>0</td>\n",
       "      <td>женат / замужем</td>\n",
       "      <td>0</td>\n",
       "      <td>F</td>\n",
       "      <td>компаньон</td>\n",
       "      <td>0</td>\n",
       "      <td>240525.971920</td>\n",
       "      <td>операции с жильем</td>\n",
       "    </tr>\n",
       "    <tr>\n",
       "      <th>7</th>\n",
       "      <td>0</td>\n",
       "      <td>-152.779569</td>\n",
       "      <td>50</td>\n",
       "      <td>СРЕДНЕЕ</td>\n",
       "      <td>1</td>\n",
       "      <td>женат / замужем</td>\n",
       "      <td>0</td>\n",
       "      <td>M</td>\n",
       "      <td>сотрудник</td>\n",
       "      <td>0</td>\n",
       "      <td>135823.934197</td>\n",
       "      <td>образование</td>\n",
       "    </tr>\n",
       "    <tr>\n",
       "      <th>8</th>\n",
       "      <td>2</td>\n",
       "      <td>-6929.865299</td>\n",
       "      <td>35</td>\n",
       "      <td>ВЫСШЕЕ</td>\n",
       "      <td>0</td>\n",
       "      <td>гражданский брак</td>\n",
       "      <td>1</td>\n",
       "      <td>F</td>\n",
       "      <td>сотрудник</td>\n",
       "      <td>0</td>\n",
       "      <td>95856.832424</td>\n",
       "      <td>на проведение свадьбы</td>\n",
       "    </tr>\n",
       "    <tr>\n",
       "      <th>9</th>\n",
       "      <td>0</td>\n",
       "      <td>-2188.756445</td>\n",
       "      <td>41</td>\n",
       "      <td>среднее</td>\n",
       "      <td>1</td>\n",
       "      <td>женат / замужем</td>\n",
       "      <td>0</td>\n",
       "      <td>M</td>\n",
       "      <td>сотрудник</td>\n",
       "      <td>0</td>\n",
       "      <td>144425.938277</td>\n",
       "      <td>покупка жилья для семьи</td>\n",
       "    </tr>\n",
       "    <tr>\n",
       "      <th>10</th>\n",
       "      <td>2</td>\n",
       "      <td>-4171.483647</td>\n",
       "      <td>36</td>\n",
       "      <td>высшее</td>\n",
       "      <td>0</td>\n",
       "      <td>женат / замужем</td>\n",
       "      <td>0</td>\n",
       "      <td>M</td>\n",
       "      <td>компаньон</td>\n",
       "      <td>0</td>\n",
       "      <td>113943.491460</td>\n",
       "      <td>покупка недвижимости</td>\n",
       "    </tr>\n",
       "    <tr>\n",
       "      <th>11</th>\n",
       "      <td>0</td>\n",
       "      <td>-792.701887</td>\n",
       "      <td>40</td>\n",
       "      <td>среднее</td>\n",
       "      <td>1</td>\n",
       "      <td>женат / замужем</td>\n",
       "      <td>0</td>\n",
       "      <td>F</td>\n",
       "      <td>сотрудник</td>\n",
       "      <td>0</td>\n",
       "      <td>77069.234271</td>\n",
       "      <td>покупка коммерческой недвижимости</td>\n",
       "    </tr>\n",
       "    <tr>\n",
       "      <th>12</th>\n",
       "      <td>0</td>\n",
       "      <td>NaN</td>\n",
       "      <td>65</td>\n",
       "      <td>среднее</td>\n",
       "      <td>1</td>\n",
       "      <td>гражданский брак</td>\n",
       "      <td>1</td>\n",
       "      <td>M</td>\n",
       "      <td>пенсионер</td>\n",
       "      <td>0</td>\n",
       "      <td>NaN</td>\n",
       "      <td>сыграть свадьбу</td>\n",
       "    </tr>\n",
       "    <tr>\n",
       "      <th>13</th>\n",
       "      <td>0</td>\n",
       "      <td>-1846.641941</td>\n",
       "      <td>54</td>\n",
       "      <td>неоконченное высшее</td>\n",
       "      <td>2</td>\n",
       "      <td>женат / замужем</td>\n",
       "      <td>0</td>\n",
       "      <td>F</td>\n",
       "      <td>сотрудник</td>\n",
       "      <td>0</td>\n",
       "      <td>130458.228857</td>\n",
       "      <td>приобретение автомобиля</td>\n",
       "    </tr>\n",
       "    <tr>\n",
       "      <th>14</th>\n",
       "      <td>0</td>\n",
       "      <td>-1844.956182</td>\n",
       "      <td>56</td>\n",
       "      <td>высшее</td>\n",
       "      <td>0</td>\n",
       "      <td>гражданский брак</td>\n",
       "      <td>1</td>\n",
       "      <td>F</td>\n",
       "      <td>компаньон</td>\n",
       "      <td>1</td>\n",
       "      <td>165127.911772</td>\n",
       "      <td>покупка жилой недвижимости</td>\n",
       "    </tr>\n",
       "    <tr>\n",
       "      <th>15</th>\n",
       "      <td>1</td>\n",
       "      <td>-972.364419</td>\n",
       "      <td>26</td>\n",
       "      <td>среднее</td>\n",
       "      <td>1</td>\n",
       "      <td>женат / замужем</td>\n",
       "      <td>0</td>\n",
       "      <td>F</td>\n",
       "      <td>сотрудник</td>\n",
       "      <td>0</td>\n",
       "      <td>116820.904450</td>\n",
       "      <td>строительство собственной недвижимости</td>\n",
       "    </tr>\n",
       "    <tr>\n",
       "      <th>16</th>\n",
       "      <td>0</td>\n",
       "      <td>-1719.934226</td>\n",
       "      <td>35</td>\n",
       "      <td>среднее</td>\n",
       "      <td>1</td>\n",
       "      <td>женат / замужем</td>\n",
       "      <td>0</td>\n",
       "      <td>F</td>\n",
       "      <td>сотрудник</td>\n",
       "      <td>0</td>\n",
       "      <td>289202.704229</td>\n",
       "      <td>недвижимость</td>\n",
       "    </tr>\n",
       "    <tr>\n",
       "      <th>17</th>\n",
       "      <td>0</td>\n",
       "      <td>-2369.999720</td>\n",
       "      <td>33</td>\n",
       "      <td>высшее</td>\n",
       "      <td>0</td>\n",
       "      <td>гражданский брак</td>\n",
       "      <td>1</td>\n",
       "      <td>M</td>\n",
       "      <td>сотрудник</td>\n",
       "      <td>0</td>\n",
       "      <td>90410.586745</td>\n",
       "      <td>строительство недвижимости</td>\n",
       "    </tr>\n",
       "    <tr>\n",
       "      <th>18</th>\n",
       "      <td>0</td>\n",
       "      <td>400281.136913</td>\n",
       "      <td>53</td>\n",
       "      <td>среднее</td>\n",
       "      <td>1</td>\n",
       "      <td>вдовец / вдова</td>\n",
       "      <td>2</td>\n",
       "      <td>F</td>\n",
       "      <td>пенсионер</td>\n",
       "      <td>0</td>\n",
       "      <td>56823.777243</td>\n",
       "      <td>на покупку подержанного автомобиля</td>\n",
       "    </tr>\n",
       "    <tr>\n",
       "      <th>19</th>\n",
       "      <td>0</td>\n",
       "      <td>-10038.818549</td>\n",
       "      <td>48</td>\n",
       "      <td>СРЕДНЕЕ</td>\n",
       "      <td>1</td>\n",
       "      <td>в разводе</td>\n",
       "      <td>3</td>\n",
       "      <td>F</td>\n",
       "      <td>сотрудник</td>\n",
       "      <td>0</td>\n",
       "      <td>242831.107982</td>\n",
       "      <td>на покупку своего автомобиля</td>\n",
       "    </tr>\n",
       "  </tbody>\n",
       "</table>\n",
       "</div>"
      ],
      "text/plain": [
       "    children  days_employed  dob_years            education  education_id  \\\n",
       "0          1   -8437.673028         42               высшее             0   \n",
       "1          1   -4024.803754         36              среднее             1   \n",
       "2          0   -5623.422610         33              Среднее             1   \n",
       "3          3   -4124.747207         32              среднее             1   \n",
       "4          0  340266.072047         53              среднее             1   \n",
       "5          0    -926.185831         27               высшее             0   \n",
       "6          0   -2879.202052         43               высшее             0   \n",
       "7          0    -152.779569         50              СРЕДНЕЕ             1   \n",
       "8          2   -6929.865299         35               ВЫСШЕЕ             0   \n",
       "9          0   -2188.756445         41              среднее             1   \n",
       "10         2   -4171.483647         36               высшее             0   \n",
       "11         0    -792.701887         40              среднее             1   \n",
       "12         0            NaN         65              среднее             1   \n",
       "13         0   -1846.641941         54  неоконченное высшее             2   \n",
       "14         0   -1844.956182         56               высшее             0   \n",
       "15         1    -972.364419         26              среднее             1   \n",
       "16         0   -1719.934226         35              среднее             1   \n",
       "17         0   -2369.999720         33               высшее             0   \n",
       "18         0  400281.136913         53              среднее             1   \n",
       "19         0  -10038.818549         48              СРЕДНЕЕ             1   \n",
       "\n",
       "       family_status  family_status_id gender income_type  debt  \\\n",
       "0    женат / замужем                 0      F   сотрудник     0   \n",
       "1    женат / замужем                 0      F   сотрудник     0   \n",
       "2    женат / замужем                 0      M   сотрудник     0   \n",
       "3    женат / замужем                 0      M   сотрудник     0   \n",
       "4   гражданский брак                 1      F   пенсионер     0   \n",
       "5   гражданский брак                 1      M   компаньон     0   \n",
       "6    женат / замужем                 0      F   компаньон     0   \n",
       "7    женат / замужем                 0      M   сотрудник     0   \n",
       "8   гражданский брак                 1      F   сотрудник     0   \n",
       "9    женат / замужем                 0      M   сотрудник     0   \n",
       "10   женат / замужем                 0      M   компаньон     0   \n",
       "11   женат / замужем                 0      F   сотрудник     0   \n",
       "12  гражданский брак                 1      M   пенсионер     0   \n",
       "13   женат / замужем                 0      F   сотрудник     0   \n",
       "14  гражданский брак                 1      F   компаньон     1   \n",
       "15   женат / замужем                 0      F   сотрудник     0   \n",
       "16   женат / замужем                 0      F   сотрудник     0   \n",
       "17  гражданский брак                 1      M   сотрудник     0   \n",
       "18    вдовец / вдова                 2      F   пенсионер     0   \n",
       "19         в разводе                 3      F   сотрудник     0   \n",
       "\n",
       "     total_income                                 purpose  \n",
       "0   253875.639453                           покупка жилья  \n",
       "1   112080.014102                 приобретение автомобиля  \n",
       "2   145885.952297                           покупка жилья  \n",
       "3   267628.550329              дополнительное образование  \n",
       "4   158616.077870                         сыграть свадьбу  \n",
       "5   255763.565419                           покупка жилья  \n",
       "6   240525.971920                       операции с жильем  \n",
       "7   135823.934197                             образование  \n",
       "8    95856.832424                   на проведение свадьбы  \n",
       "9   144425.938277                 покупка жилья для семьи  \n",
       "10  113943.491460                    покупка недвижимости  \n",
       "11   77069.234271       покупка коммерческой недвижимости  \n",
       "12            NaN                         сыграть свадьбу  \n",
       "13  130458.228857                 приобретение автомобиля  \n",
       "14  165127.911772              покупка жилой недвижимости  \n",
       "15  116820.904450  строительство собственной недвижимости  \n",
       "16  289202.704229                            недвижимость  \n",
       "17   90410.586745              строительство недвижимости  \n",
       "18   56823.777243      на покупку подержанного автомобиля  \n",
       "19  242831.107982            на покупку своего автомобиля  "
      ]
     },
     "execution_count": 216,
     "metadata": {},
     "output_type": "execute_result"
    }
   ],
   "source": [
    "data.head(20)"
   ]
  },
  {
   "cell_type": "markdown",
   "id": "7f764fd9",
   "metadata": {
    "deletable": false,
    "editable": false,
    "id": "1c12e233"
   },
   "source": [
    "**Задание 3. Выведите основную информацию о датафрейме с помощью метода `info()`.**"
   ]
  },
  {
   "cell_type": "code",
   "execution_count": 217,
   "id": "ed6e68a0",
   "metadata": {
    "deletable": false,
    "id": "2b757bca",
    "outputId": "15376089-8dad-46c9-b520-c05248d43158"
   },
   "outputs": [
    {
     "name": "stdout",
     "output_type": "stream",
     "text": [
      "<class 'pandas.core.frame.DataFrame'>\n",
      "RangeIndex: 21525 entries, 0 to 21524\n",
      "Data columns (total 12 columns):\n",
      " #   Column            Non-Null Count  Dtype  \n",
      "---  ------            --------------  -----  \n",
      " 0   children          21525 non-null  int64  \n",
      " 1   days_employed     19351 non-null  float64\n",
      " 2   dob_years         21525 non-null  int64  \n",
      " 3   education         21525 non-null  object \n",
      " 4   education_id      21525 non-null  int64  \n",
      " 5   family_status     21525 non-null  object \n",
      " 6   family_status_id  21525 non-null  int64  \n",
      " 7   gender            21525 non-null  object \n",
      " 8   income_type       21525 non-null  object \n",
      " 9   debt              21525 non-null  int64  \n",
      " 10  total_income      19351 non-null  float64\n",
      " 11  purpose           21525 non-null  object \n",
      "dtypes: float64(2), int64(5), object(5)\n",
      "memory usage: 2.0+ MB\n"
     ]
    }
   ],
   "source": [
    "data.info()"
   ]
  },
  {
   "cell_type": "markdown",
   "id": "e1adc4c6",
   "metadata": {},
   "source": [
    "<div class=\"alert alert-success\">\n",
    "<b>Комментарий ревьюера №1</b> ✅\n",
    "    \n",
    "Разделы работы можно заканчивать промежуточными выводами\n",
    "</div>"
   ]
  },
  {
   "cell_type": "markdown",
   "id": "a05462c7",
   "metadata": {
    "deletable": false,
    "editable": false,
    "id": "333ec665"
   },
   "source": [
    "## Предобработка данных"
   ]
  },
  {
   "cell_type": "markdown",
   "id": "8254e49e",
   "metadata": {
    "deletable": false,
    "editable": false,
    "id": "02d92d53"
   },
   "source": [
    "### Удаление пропусков"
   ]
  },
  {
   "cell_type": "markdown",
   "id": "0315b78f",
   "metadata": {
    "deletable": false,
    "editable": false,
    "id": "cd84967c"
   },
   "source": [
    "**Задание 4. Выведите количество пропущенных значений для каждого столбца. Используйте комбинацию двух методов.**"
   ]
  },
  {
   "cell_type": "code",
   "execution_count": 218,
   "id": "d9a5f4d0",
   "metadata": {
    "deletable": false,
    "id": "7f9b2309",
    "outputId": "81f4d817-781c-465c-ed15-91ce4446810d"
   },
   "outputs": [
    {
     "data": {
      "text/plain": [
       "children               0\n",
       "days_employed       2174\n",
       "dob_years              0\n",
       "education              0\n",
       "education_id           0\n",
       "family_status          0\n",
       "family_status_id       0\n",
       "gender                 0\n",
       "income_type            0\n",
       "debt                   0\n",
       "total_income        2174\n",
       "purpose                0\n",
       "dtype: int64"
      ]
     },
     "execution_count": 218,
     "metadata": {},
     "output_type": "execute_result"
    }
   ],
   "source": [
    "data.isna().sum()"
   ]
  },
  {
   "cell_type": "markdown",
   "id": "a00cdeff",
   "metadata": {},
   "source": [
    "<div class=\"alert alert-info\">\n",
    "<b>Комментарий студента №0</b>\n",
    "    \n",
    "Прикольное замечание! Принято, спасибо!\n",
    "</div>"
   ]
  },
  {
   "cell_type": "code",
   "execution_count": 219,
   "id": "f877bf90",
   "metadata": {},
   "outputs": [
    {
     "data": {
      "text/plain": [
       "2174"
      ]
     },
     "execution_count": 219,
     "metadata": {},
     "output_type": "execute_result"
    }
   ],
   "source": [
    "len(data.loc[(data['days_employed'].isna()) & (data['total_income'].isna())])"
   ]
  },
  {
   "cell_type": "markdown",
   "id": "35854255",
   "metadata": {
    "deletable": false,
    "editable": false,
    "id": "db86e27b"
   },
   "source": [
    "**Задание 5. В двух столбцах есть пропущенные значения. Один из них — `days_employed`. Пропуски в этом столбце вы обработаете на следующем этапе. Другой столбец с пропущенными значениями — `total_income` — хранит данные о доходах. На сумму дохода сильнее всего влияет тип занятости, поэтому заполнить пропуски в этом столбце нужно медианным значением по каждому типу из столбца `income_type`. Например, у человека с типом занятости `сотрудник` пропуск в столбце `total_income` должен быть заполнен медианным доходом среди всех записей с тем же типом.**"
   ]
  },
  {
   "cell_type": "code",
   "execution_count": 220,
   "id": "8cdcbb73",
   "metadata": {
    "deletable": false,
    "id": "42006a93"
   },
   "outputs": [],
   "source": [
    "for t in data['income_type'].unique():\n",
    "    data.loc[(data['income_type'] == t) & (data['total_income'].isna()), 'total_income'] = \\\n",
    "    data.loc[(data['income_type'] == t), 'total_income'].median()"
   ]
  },
  {
   "cell_type": "markdown",
   "id": "9f0d8776",
   "metadata": {
    "deletable": false,
    "editable": false,
    "id": "89da5ece"
   },
   "source": [
    "### Обработка аномальных значений"
   ]
  },
  {
   "cell_type": "markdown",
   "id": "64de1559",
   "metadata": {
    "deletable": false,
    "editable": false,
    "id": "57964554"
   },
   "source": [
    "**Задание 6. В данных могут встречаться артефакты (аномалии) — значения, которые не отражают действительность и появились по какой-то ошибке. таким артефактом будет отрицательное количество дней трудового стажа в столбце `days_employed`. Для реальных данных это нормально. Обработайте значения в этом столбце: замените все отрицательные значения положительными с помощью метода `abs()`.**"
   ]
  },
  {
   "cell_type": "code",
   "execution_count": 221,
   "id": "e3c3c2d1",
   "metadata": {
    "deletable": false,
    "id": "f6f055bf"
   },
   "outputs": [],
   "source": [
    "data['days_employed'] = data['days_employed'].abs()"
   ]
  },
  {
   "cell_type": "markdown",
   "id": "ef20de87",
   "metadata": {
    "deletable": false,
    "editable": false,
    "id": "6107dd2f"
   },
   "source": [
    "**Задание 7. Для каждого типа занятости выведите медианное значение трудового стажа `days_employed` в днях.**"
   ]
  },
  {
   "cell_type": "code",
   "execution_count": 222,
   "id": "a35dd8f0",
   "metadata": {
    "deletable": false,
    "id": "85a5faf6",
    "outputId": "801ef80e-522b-4668-f34e-565af7432bcf"
   },
   "outputs": [
    {
     "data": {
      "text/plain": [
       "income_type\n",
       "безработный        366413.652744\n",
       "в декрете            3296.759962\n",
       "госслужащий          2689.368353\n",
       "компаньон            1547.382223\n",
       "пенсионер          365213.306266\n",
       "предприниматель       520.848083\n",
       "сотрудник            1574.202821\n",
       "студент               578.751554\n",
       "Name: days_employed, dtype: float64"
      ]
     },
     "execution_count": 222,
     "metadata": {},
     "output_type": "execute_result"
    }
   ],
   "source": [
    "data.groupby('income_type')['days_employed'].agg('median')"
   ]
  },
  {
   "cell_type": "markdown",
   "id": "bb3c11a2",
   "metadata": {
    "deletable": false,
    "editable": false,
    "id": "38d1a030"
   },
   "source": [
    "У двух типов (безработные и пенсионеры) получатся аномально большие значения. Исправить такие значения сложно, поэтому оставьте их как есть. Тем более этот столбец не понадобится вам для исследования."
   ]
  },
  {
   "cell_type": "markdown",
   "id": "05fa47f7",
   "metadata": {
    "deletable": false,
    "editable": false,
    "id": "d8a9f147"
   },
   "source": [
    "**Задание 8. Выведите перечень уникальных значений столбца `children`.**"
   ]
  },
  {
   "cell_type": "code",
   "execution_count": 223,
   "id": "7f049b12",
   "metadata": {
    "deletable": false,
    "id": "ef5056eb",
    "outputId": "6975b15c-7f95-4697-d16d-a0c79b657b03"
   },
   "outputs": [
    {
     "data": {
      "text/plain": [
       "array([ 1,  0,  3,  2, -1,  4, 20,  5])"
      ]
     },
     "execution_count": 223,
     "metadata": {},
     "output_type": "execute_result"
    }
   ],
   "source": [
    "data['children'].unique()"
   ]
  },
  {
   "cell_type": "markdown",
   "id": "17f7b7a3",
   "metadata": {
    "deletable": false,
    "editable": false,
    "id": "40b9ebf2"
   },
   "source": [
    "**Задание 9. В столбце `children` есть два аномальных значения. Удалите строки, в которых встречаются такие аномальные значения из датафрейма `data`.**"
   ]
  },
  {
   "cell_type": "code",
   "execution_count": 224,
   "id": "115e14b0",
   "metadata": {
    "deletable": false,
    "id": "3ff9801d"
   },
   "outputs": [],
   "source": [
    "data = data[(data['children'] != -1) & (data['children'] != 20)]"
   ]
  },
  {
   "cell_type": "markdown",
   "id": "14611ae9",
   "metadata": {
    "deletable": false,
    "editable": false,
    "id": "bbc4d0ce"
   },
   "source": [
    "**Задание 10. Ещё раз выведите перечень уникальных значений столбца `children`, чтобы убедиться, что артефакты удалены.**"
   ]
  },
  {
   "cell_type": "code",
   "execution_count": 225,
   "id": "2115b49f",
   "metadata": {
    "deletable": false,
    "id": "ad4fa8b7",
    "outputId": "b2097101-d49d-44d9-901b-32a65c9463d1"
   },
   "outputs": [
    {
     "data": {
      "text/plain": [
       "array([1, 0, 3, 2, 4, 5])"
      ]
     },
     "execution_count": 225,
     "metadata": {},
     "output_type": "execute_result"
    }
   ],
   "source": [
    "data['children'].unique()"
   ]
  },
  {
   "cell_type": "markdown",
   "id": "42a1e2c1",
   "metadata": {
    "deletable": false,
    "editable": false,
    "id": "75440b63"
   },
   "source": [
    "### Удаление пропусков (продолжение)"
   ]
  },
  {
   "cell_type": "markdown",
   "id": "b64c45b7",
   "metadata": {
    "deletable": false,
    "editable": false,
    "id": "f4ea573f"
   },
   "source": [
    "**Задание 11. Заполните пропуски в столбце `days_employed` медианными значениями по каждого типа занятости `income_type`.**"
   ]
  },
  {
   "cell_type": "code",
   "execution_count": 226,
   "id": "36888e99",
   "metadata": {
    "deletable": false,
    "id": "af6b1a7e"
   },
   "outputs": [],
   "source": [
    "for t in data['income_type'].unique():\n",
    "    data.loc[(data['income_type'] == t) & (data['days_employed'].isna()), 'days_employed'] = \\\n",
    "    data.loc[(data['income_type'] == t), 'days_employed'].median()"
   ]
  },
  {
   "cell_type": "markdown",
   "id": "9e78eb1d",
   "metadata": {
    "deletable": false,
    "editable": false,
    "id": "2753f40d"
   },
   "source": [
    "**Задание 12. Убедитесь, что все пропуски заполнены. Проверьте себя и ещё раз выведите количество пропущенных значений для каждого столбца с помощью двух методов.**"
   ]
  },
  {
   "cell_type": "code",
   "execution_count": 227,
   "id": "bd04ba4f",
   "metadata": {
    "deletable": false,
    "id": "55f78bc2",
    "outputId": "8da1e4e1-358e-4e87-98c9-f261bce0a7b2"
   },
   "outputs": [
    {
     "data": {
      "text/plain": [
       "children            0\n",
       "days_employed       0\n",
       "dob_years           0\n",
       "education           0\n",
       "education_id        0\n",
       "family_status       0\n",
       "family_status_id    0\n",
       "gender              0\n",
       "income_type         0\n",
       "debt                0\n",
       "total_income        0\n",
       "purpose             0\n",
       "dtype: int64"
      ]
     },
     "execution_count": 227,
     "metadata": {},
     "output_type": "execute_result"
    }
   ],
   "source": [
    "data.isna().sum()"
   ]
  },
  {
   "cell_type": "markdown",
   "id": "0d61cd9b",
   "metadata": {
    "deletable": false,
    "editable": false,
    "id": "ddc81e43"
   },
   "source": [
    "### Изменение типов данных"
   ]
  },
  {
   "cell_type": "markdown",
   "id": "8c2a94ed",
   "metadata": {
    "deletable": false,
    "editable": false,
    "id": "42d19d24"
   },
   "source": [
    "**Задание 13. Замените вещественный тип данных в столбце `total_income` на целочисленный с помощью метода `astype()`.**"
   ]
  },
  {
   "cell_type": "code",
   "execution_count": 228,
   "id": "dd9ddee6",
   "metadata": {
    "deletable": false,
    "id": "920b65ad"
   },
   "outputs": [],
   "source": [
    "data['total_income'] = data['total_income'].astype(int)"
   ]
  },
  {
   "cell_type": "markdown",
   "id": "6bd51c33",
   "metadata": {
    "deletable": false,
    "editable": false,
    "id": "80c420ba"
   },
   "source": [
    "### Обработка дубликатов"
   ]
  },
  {
   "cell_type": "markdown",
   "id": "12641199",
   "metadata": {
    "deletable": false,
    "editable": false
   },
   "source": [
    "**Задание 14. Обработайте неявные дубликаты в столбце `education`. В этом столбце есть одни и те же значения, но записанные по-разному: с использованием заглавных и строчных букв. Приведите их к нижнему регистру. Проверьте остальные столбцы.**"
   ]
  },
  {
   "cell_type": "code",
   "execution_count": 229,
   "id": "316ab902",
   "metadata": {
    "deletable": false
   },
   "outputs": [],
   "source": [
    "data['education'] = data['education'].str.lower()"
   ]
  },
  {
   "cell_type": "markdown",
   "id": "abf09327",
   "metadata": {
    "deletable": false,
    "editable": false,
    "id": "dc587695"
   },
   "source": [
    "**Задание 15. Выведите на экран количество строк-дубликатов в данных. Если такие строки присутствуют, удалите их.**"
   ]
  },
  {
   "cell_type": "code",
   "execution_count": 230,
   "id": "52818f31",
   "metadata": {
    "deletable": false,
    "id": "3ee445e4",
    "outputId": "9684deba-1934-42d1-99e1-cda61740f822"
   },
   "outputs": [
    {
     "data": {
      "text/plain": [
       "71"
      ]
     },
     "execution_count": 230,
     "metadata": {},
     "output_type": "execute_result"
    }
   ],
   "source": [
    "data.duplicated().sum()"
   ]
  },
  {
   "cell_type": "code",
   "execution_count": 231,
   "id": "f646aaf4",
   "metadata": {
    "deletable": false,
    "id": "8575fe05"
   },
   "outputs": [],
   "source": [
    "data = data.drop_duplicates()"
   ]
  },
  {
   "cell_type": "markdown",
   "id": "13ce6ab5",
   "metadata": {
    "deletable": false,
    "editable": false,
    "id": "9904cf55"
   },
   "source": [
    "### Категоризация данных"
   ]
  },
  {
   "cell_type": "markdown",
   "id": "9c46a779",
   "metadata": {
    "deletable": false,
    "editable": false,
    "id": "72fcc8a2"
   },
   "source": [
    "**Задание 16. На основании диапазонов, указанных ниже, создайте в датафрейме `data` столбец `total_income_category` с категориями:**\n",
    "\n",
    "- 0–30000 — `'E'`;\n",
    "- 30001–50000 — `'D'`;\n",
    "- 50001–200000 — `'C'`;\n",
    "- 200001–1000000 — `'B'`;\n",
    "- 1000001 и выше — `'A'`.\n",
    "\n",
    "\n",
    "**Например, кредитополучателю с доходом 25000 нужно назначить категорию `'E'`, а клиенту, получающему 235000, — `'B'`. Используйте собственную функцию с именем `categorize_income()` и метод `apply()`.**"
   ]
  },
  {
   "cell_type": "code",
   "execution_count": 232,
   "id": "b362a780",
   "metadata": {
    "deletable": false,
    "id": "e1771346"
   },
   "outputs": [],
   "source": [
    "def categorize_income(income):\n",
    "    try:\n",
    "        if 0 <= income <= 30000:\n",
    "            return 'E'\n",
    "        elif 30001 <= income <= 50000:\n",
    "            return 'D'\n",
    "        elif 50001 <= income <= 200000:\n",
    "            return 'C'\n",
    "        elif 200001 <= income <= 1000000:\n",
    "            return 'B'\n",
    "        elif income >= 1000001:\n",
    "            return 'A'\n",
    "    except:\n",
    "        pass"
   ]
  },
  {
   "cell_type": "code",
   "execution_count": 233,
   "id": "40e4f61a",
   "metadata": {
    "deletable": false,
    "id": "d5f3586d"
   },
   "outputs": [],
   "source": [
    "data['total_income_category'] = data['total_income'].apply(categorize_income)"
   ]
  },
  {
   "cell_type": "markdown",
   "id": "08c0c2d4",
   "metadata": {
    "deletable": false,
    "editable": false,
    "id": "dde49b5c"
   },
   "source": [
    "**Задание 17. Выведите на экран перечень уникальных целей взятия кредита из столбца `purpose`.**"
   ]
  },
  {
   "cell_type": "code",
   "execution_count": 234,
   "id": "aeda4ff0",
   "metadata": {
    "deletable": false,
    "id": "f67ce9b3",
    "outputId": "673c12d9-7d7e-4ae0-9812-c622c89dd244"
   },
   "outputs": [
    {
     "data": {
      "text/plain": [
       "array(['покупка жилья', 'приобретение автомобиля',\n",
       "       'дополнительное образование', 'сыграть свадьбу',\n",
       "       'операции с жильем', 'образование', 'на проведение свадьбы',\n",
       "       'покупка жилья для семьи', 'покупка недвижимости',\n",
       "       'покупка коммерческой недвижимости', 'покупка жилой недвижимости',\n",
       "       'строительство собственной недвижимости', 'недвижимость',\n",
       "       'строительство недвижимости', 'на покупку подержанного автомобиля',\n",
       "       'на покупку своего автомобиля',\n",
       "       'операции с коммерческой недвижимостью',\n",
       "       'строительство жилой недвижимости', 'жилье',\n",
       "       'операции со своей недвижимостью', 'автомобили',\n",
       "       'заняться образованием', 'сделка с подержанным автомобилем',\n",
       "       'получение образования', 'автомобиль', 'свадьба',\n",
       "       'получение дополнительного образования', 'покупка своего жилья',\n",
       "       'операции с недвижимостью', 'получение высшего образования',\n",
       "       'свой автомобиль', 'сделка с автомобилем',\n",
       "       'профильное образование', 'высшее образование',\n",
       "       'покупка жилья для сдачи', 'на покупку автомобиля', 'ремонт жилью',\n",
       "       'заняться высшим образованием'], dtype=object)"
      ]
     },
     "execution_count": 234,
     "metadata": {},
     "output_type": "execute_result"
    }
   ],
   "source": [
    "data['purpose'].unique()"
   ]
  },
  {
   "cell_type": "markdown",
   "id": "89db998d",
   "metadata": {
    "deletable": false,
    "editable": false,
    "id": "85d0aef0"
   },
   "source": [
    "**Задание 18. Создайте функцию, которая на основании данных из столбца `purpose` сформирует новый столбец `purpose_category`, в который войдут следующие категории:**\n",
    "\n",
    "- `'операции с автомобилем'`,\n",
    "- `'операции с недвижимостью'`,\n",
    "- `'проведение свадьбы'`,\n",
    "- `'получение образования'`.\n",
    "\n",
    "**Например, если в столбце `purpose` находится подстрока `'на покупку автомобиля'`, то в столбце `purpose_category` должна появиться строка `'операции с автомобилем'`.**\n",
    "\n",
    "**Используйте собственную функцию с именем `categorize_purpose()` и метод `apply()`. Изучите данные в столбце `purpose` и определите, какие подстроки помогут вам правильно определить категорию.**"
   ]
  },
  {
   "cell_type": "code",
   "execution_count": 235,
   "id": "57730a6d",
   "metadata": {
    "deletable": false,
    "id": "e149fab4"
   },
   "outputs": [],
   "source": [
    "def categorize_purpose(row):\n",
    "    try:\n",
    "        if 'автом' in row:\n",
    "            return 'операции с автомобилем'\n",
    "        elif 'жил' in row or 'недвиж' in row:\n",
    "            return 'операции с недвижимостью'\n",
    "        elif 'свад' in row:\n",
    "            return 'проведение свадьбы'\n",
    "        elif 'образов' in row:\n",
    "            return 'получение образования'\n",
    "    except:\n",
    "        return 'нет категории'"
   ]
  },
  {
   "cell_type": "code",
   "execution_count": 236,
   "id": "e3c65116",
   "metadata": {
    "deletable": false,
    "id": "bf36e69b"
   },
   "outputs": [],
   "source": [
    "data['purpose_category'] = data['purpose'].apply(categorize_purpose)"
   ]
  },
  {
   "cell_type": "markdown",
   "id": "70b6a240",
   "metadata": {
    "deletable": false,
    "editable": false,
    "id": "09b242bf"
   },
   "source": [
    "### Шаг 3. Исследуйте данные и ответьте на вопросы"
   ]
  },
  {
   "cell_type": "markdown",
   "id": "3c44b431",
   "metadata": {},
   "source": [
    "<div class=\"alert alert-danger\">\n",
    "<b>Комментарий ревьюера №1</b> ❌ Замечание по всему разделу ответов на вопросы \n",
    "    \n",
    "В каждом вопросе нужно вывести сводную. Здесь можно воспользоваться `pivot_table()`.\n",
    "    \n",
    "Чтобы найти долю должников, нужно количество должников поделить на общее число заемщиков. Эту долю можно найти с помощью функции агрегации `mean`\n",
    "    \n",
    "Попробуй получить сводную следующего вида. В индексе столбец, который исследуем (в первом вопросе это количество детей), а столбцы: 'Всего кредитополучателей', 'Всего должников', 'Доля должников'. Учитывай, что использовать параметр columns необязательно, а в параметр aggfunc можно указывать несколько функций агрегации сразу.\n",
    "\n",
    "Также могу посоветовать переименовать столбцы и написать функцию для построения сводных во всех вопросах.\n",
    "</div>"
   ]
  },
  {
   "cell_type": "markdown",
   "id": "41cc08c7",
   "metadata": {
    "deletable": false,
    "editable": false,
    "id": "c5d66278"
   },
   "source": [
    "#### 3.1 Есть ли зависимость между количеством детей и возвратом кредита в срок?"
   ]
  },
  {
   "cell_type": "code",
   "execution_count": 237,
   "id": "7066d91c",
   "metadata": {},
   "outputs": [
    {
     "name": "stdout",
     "output_type": "stream",
     "text": [
      "[1 0 3 2 4 5]\n"
     ]
    }
   ],
   "source": [
    "print(data['children'].unique())"
   ]
  },
  {
   "cell_type": "code",
   "execution_count": 238,
   "id": "207570c7",
   "metadata": {
    "deletable": false,
    "id": "2cacfc4a"
   },
   "outputs": [
    {
     "name": "stdout",
     "output_type": "stream",
     "text": [
      "Число должников: 1732\n",
      "Должники: детей от 0 до 4\n",
      "Должники: медиана по числу детей: 0\n",
      "Должники: среднее число детей: 0.5363741339491916\n",
      "Число бездолжников: 19599\n",
      "Бездолжники: детей от 0 до 5\n",
      "Бездолжники: медиана по числу детей: 0\n",
      "Бездолжники: среднее число детей: 0.4684932904740038\n"
     ]
    }
   ],
   "source": [
    "print('Число должников:', data[data['debt'] == 1]['purpose'].count())\n",
    "print('Должники: детей от', data[data['debt'] == 1]['children'].min(), 'до', data[data['debt'] == 1]['children'].max())\n",
    "print('Должники: медиана по числу детей:', data[data['debt'] == 1]['children'].median().astype(int))\n",
    "print('Должники: среднее число детей:', data[data['debt'] == 1]['children'].mean())\n",
    "print('Число бездолжников:', data[data['debt'] == 0]['purpose'].count())\n",
    "print('Бездолжники: детей от', data[data['debt'] == 0]['children'].min(), 'до', data[data['debt'] == 0]['children'].max())\n",
    "print('Бездолжники: медиана по числу детей:', data[data['debt'] == 0]['children'].median().astype(int))\n",
    "print('Бездолжники: среднее число детей:', data[data['debt'] == 0]['children'].mean())"
   ]
  },
  {
   "cell_type": "markdown",
   "id": "506a80b1",
   "metadata": {},
   "source": [
    "<div class=\"alert alert-info\">\n",
    "<b>Моя переделка по красному комментарию ревьюера №1</b>\n",
    "\n",
    "**VVVVVVVVVVVVVVVVVVVVVVVVVVVVVVVVVVVVVVVVVV**\n",
    "</div> "
   ]
  },
  {
   "cell_type": "code",
   "execution_count": 239,
   "id": "c0cc15b2",
   "metadata": {},
   "outputs": [
    {
     "name": "stdout",
     "output_type": "stream",
     "text": [
      "            count      mean     sum\n",
      "children                           \n",
      "0         14091.0  0.075438  1063.0\n",
      "1          4808.0  0.092346   444.0\n",
      "2          2052.0  0.094542   194.0\n",
      "3           330.0  0.081818    27.0\n",
      "4            41.0  0.097561     4.0\n",
      "5             9.0  0.000000     0.0\n"
     ]
    }
   ],
   "source": [
    "#data_pivot = data.pivot_table(index = ['children'], columns = 'debt', values = 'dob_years', aggfunc = {'count'})\n",
    "data_pivot = data.pivot_table(index = ['children'],  values = 'debt', aggfunc = {'sum','count','mean'})\n",
    "#data_pivot = data.pivot_table(index = ['debt','children'],values = 'dob_years',aggfunc = {'count'})\n",
    "#data_pivot['1'].fillna(0)\n",
    "#data_pivot['rate'] = data_pivot['1'] / (data_pivot['0'] + data_pivot['1'])\n",
    "#data_pivot['total'] = data_pivot['sum'] / data_pivot['mean']\n",
    "print(data_pivot)"
   ]
  },
  {
   "cell_type": "code",
   "execution_count": 240,
   "id": "5efd0701",
   "metadata": {},
   "outputs": [
    {
     "data": {
      "text/html": [
       "<div>\n",
       "<style scoped>\n",
       "    .dataframe tbody tr th:only-of-type {\n",
       "        vertical-align: middle;\n",
       "    }\n",
       "\n",
       "    .dataframe tbody tr th {\n",
       "        vertical-align: top;\n",
       "    }\n",
       "\n",
       "    .dataframe thead th {\n",
       "        text-align: right;\n",
       "    }\n",
       "</style>\n",
       "<table border=\"1\" class=\"dataframe\">\n",
       "  <thead>\n",
       "    <tr style=\"text-align: right;\">\n",
       "      <th></th>\n",
       "      <th>count</th>\n",
       "      <th>mean</th>\n",
       "      <th>sum</th>\n",
       "    </tr>\n",
       "    <tr>\n",
       "      <th>children</th>\n",
       "      <th></th>\n",
       "      <th></th>\n",
       "      <th></th>\n",
       "    </tr>\n",
       "  </thead>\n",
       "  <tbody>\n",
       "    <tr>\n",
       "      <th>0</th>\n",
       "      <td>14091.0</td>\n",
       "      <td>0.075438</td>\n",
       "      <td>1063.0</td>\n",
       "    </tr>\n",
       "    <tr>\n",
       "      <th>1</th>\n",
       "      <td>4808.0</td>\n",
       "      <td>0.092346</td>\n",
       "      <td>444.0</td>\n",
       "    </tr>\n",
       "    <tr>\n",
       "      <th>2</th>\n",
       "      <td>2052.0</td>\n",
       "      <td>0.094542</td>\n",
       "      <td>194.0</td>\n",
       "    </tr>\n",
       "    <tr>\n",
       "      <th>3</th>\n",
       "      <td>330.0</td>\n",
       "      <td>0.081818</td>\n",
       "      <td>27.0</td>\n",
       "    </tr>\n",
       "    <tr>\n",
       "      <th>4</th>\n",
       "      <td>41.0</td>\n",
       "      <td>0.097561</td>\n",
       "      <td>4.0</td>\n",
       "    </tr>\n",
       "    <tr>\n",
       "      <th>5</th>\n",
       "      <td>9.0</td>\n",
       "      <td>0.000000</td>\n",
       "      <td>0.0</td>\n",
       "    </tr>\n",
       "  </tbody>\n",
       "</table>\n",
       "</div>"
      ],
      "text/plain": [
       "            count      mean     sum\n",
       "children                           \n",
       "0         14091.0  0.075438  1063.0\n",
       "1          4808.0  0.092346   444.0\n",
       "2          2052.0  0.094542   194.0\n",
       "3           330.0  0.081818    27.0\n",
       "4            41.0  0.097561     4.0\n",
       "5             9.0  0.000000     0.0"
      ]
     },
     "metadata": {},
     "output_type": "display_data"
    }
   ],
   "source": [
    "data_pivot = data.pivot_table(index = ['children'],  values = 'debt', aggfunc = {'sum','count','mean'})\n",
    "display(data_pivot)"
   ]
  },
  {
   "cell_type": "markdown",
   "id": "8bf315ec",
   "metadata": {},
   "source": [
    "<div class=\"alert alert-success\">\n",
    "<b>Комментарий ревьюера №2</b> ✅ \n",
    "    \n",
    "Для вывода датафрейма на экран можно использовать `display()` вместо `print()`\n",
    "</div>"
   ]
  },
  {
   "cell_type": "markdown",
   "id": "f2dd4284",
   "metadata": {
    "deletable": false,
    "id": "3a6b99ec"
   },
   "source": [
    "**Вывод:** Бездетные: 7.5% должников, 1 ребенок: 9.2% должников, 2 ребенка: 9.5% должников - статистика большая для этих категорий, видим, что наличие ребенка - скорее является фактором для невозврата кредита в срок, чем нет."
   ]
  },
  {
   "cell_type": "markdown",
   "id": "916baa8d",
   "metadata": {},
   "source": [
    "<div class=\"alert alert-danger\">\n",
    "<b>Комментарий ревьюера №1</b> ❌\n",
    "    \n",
    "Выявлять зависимость стоит, сравнивая самые большие, сопоставимые по размеру категории заемщиков. Какую зависимость можно выявить, сравнив категории с 0, 1 и 2 детьми?\n",
    "</div>"
   ]
  },
  {
   "cell_type": "markdown",
   "id": "f32bda12",
   "metadata": {},
   "source": [
    "<div class=\"alert alert-warning\">\n",
    "<b>Комментарий ревьюера №2</b> ⚠️\n",
    "    \n",
    "По людям с 0-2 детьми: чем больше детей, тем выше доля должников\n",
    "</div>"
   ]
  },
  {
   "cell_type": "markdown",
   "id": "07b21513",
   "metadata": {
    "deletable": false,
    "editable": false,
    "id": "97be82ca"
   },
   "source": [
    "#### 3.2 Есть ли зависимость между семейным положением и возвратом кредита в срок?"
   ]
  },
  {
   "cell_type": "code",
   "execution_count": 26,
   "id": "530ae5ae",
   "metadata": {
    "deletable": false,
    "id": "dc3f7ee8"
   },
   "outputs": [
    {
     "name": "stdout",
     "output_type": "stream",
     "text": [
      "['женат / замужем' 'гражданский брак' 'вдовец / вдова' 'в разводе'\n",
      " 'Не женат / не замужем']\n",
      "\n",
      "debt == 1: family_status\n",
      "Не женат / не замужем    273\n",
      "в разводе                 84\n",
      "вдовец / вдова            63\n",
      "гражданский брак         385\n",
      "женат / замужем          927\n",
      "Name: children, dtype: int64\n",
      "\n",
      "debt == 0: family_status\n",
      "Не женат / не замужем     2523\n",
      "в разводе                 1105\n",
      "вдовец / вдова             888\n",
      "гражданский брак          3749\n",
      "женат / замужем          11334\n",
      "Name: children, dtype: int64\n",
      "\n",
      "Таблица, указывающая процент должников в каждой категории:\n",
      "женат / замужем 7\n",
      "гражданский брак 9\n",
      "вдовец / вдова 6\n",
      "в разводе 7\n",
      "Не женат / не замужем 9\n"
     ]
    }
   ],
   "source": [
    "# Ваш код будет здесь. Вы можете создавать новые ячейки.\n",
    "print(data['family_status'].unique())\n",
    "print()\n",
    "print('debt == 1:',data[data['debt']==1].groupby('family_status')['children'].count())\n",
    "print()\n",
    "print('debt == 0:',data[data['debt']==0].groupby('family_status')['children'].count())\n",
    "print()\n",
    "print('Таблица, указывающая процент должников в каждой категории:')\n",
    "for el in data['family_status'].unique():\n",
    "    print(el, (100*(data[(data['debt'] == 1) & (data['family_status'] == el)]['children'].count() /\n",
    "          data[data['family_status'] == el]['children'].count())).astype(int))"
   ]
  },
  {
   "cell_type": "markdown",
   "id": "3f72324c",
   "metadata": {},
   "source": [
    "<div class=\"alert alert-info\">\n",
    "<b>Моя переделка по красному комментарию ревьюера №2</b>\n",
    "\n",
    "**VVVVVVVVVVVVVVVVVVVVVVVVVVVVVVVVVVVVVVVVVV**\n",
    "</div> "
   ]
  },
  {
   "cell_type": "code",
   "execution_count": 27,
   "id": "6de914be",
   "metadata": {},
   "outputs": [
    {
     "name": "stdout",
     "output_type": "stream",
     "text": [
      "                         count      mean    sum\n",
      "family_status                                  \n",
      "Не женат / не замужем   2796.0  0.097639  273.0\n",
      "в разводе               1189.0  0.070648   84.0\n",
      "вдовец / вдова           951.0  0.066246   63.0\n",
      "гражданский брак        4134.0  0.093130  385.0\n",
      "женат / замужем        12261.0  0.075606  927.0\n"
     ]
    }
   ],
   "source": [
    "data_pivot2 = data.pivot_table(index = ['family_status'],  values = 'debt', aggfunc = {'sum','count','mean'})\n",
    "print(data_pivot2)"
   ]
  },
  {
   "cell_type": "markdown",
   "id": "fb474def",
   "metadata": {
    "deletable": false,
    "id": "1cef7837"
   },
   "source": [
    "**Вывод:** зависимость слабая. Разве что, люди побывавшие или пребывающие в документально подтвержденном браке более ответственны, нежели те, кто ни разу не вступал в законный брак."
   ]
  },
  {
   "cell_type": "markdown",
   "id": "61b910f1",
   "metadata": {},
   "source": [
    "<div class=\"alert alert-info\">\n",
    "<b>Связь с возрастом я бы не стал проводить, т.к. совместнопроживание становится все более модным, особенно для бездетных (а также для здоровых и не релоцирующихся) граждан.</b>\n",
    "</div> "
   ]
  },
  {
   "cell_type": "markdown",
   "id": "b0a6e267",
   "metadata": {},
   "source": [
    "<div class=\"alert alert-success\">\n",
    "<b>Комментарий ревьюера №1</b> ✅\n",
    "    \n",
    "Люди, побывавшие в официальном браке, наиболее надежны. Возможно, есть связь с возрастом\n",
    "</div>"
   ]
  },
  {
   "cell_type": "markdown",
   "id": "d73f93ae",
   "metadata": {
    "deletable": false,
    "editable": false,
    "id": "1e8b2fca"
   },
   "source": [
    "#### 3.3 Есть ли зависимость между уровнем дохода и возвратом кредита в срок?"
   ]
  },
  {
   "cell_type": "code",
   "execution_count": 28,
   "id": "ccf3139f",
   "metadata": {
    "deletable": false,
    "id": "cd7e3720"
   },
   "outputs": [
    {
     "name": "stdout",
     "output_type": "stream",
     "text": [
      "debt == 1: total_income_category\n",
      "A       2\n",
      "B     354\n",
      "C    1353\n",
      "D      21\n",
      "E       2\n",
      "Name: children, dtype: int64\n",
      "\n",
      "debt == 0: total_income_category\n",
      "A       23\n",
      "B     4660\n",
      "C    14568\n",
      "D      328\n",
      "E       20\n",
      "Name: children, dtype: int64\n",
      "\n",
      "Таблица, указывающая процент должников в каждой категории:\n",
      "B 7\n",
      "C 8\n",
      "D 6\n",
      "E 9\n",
      "A 8\n"
     ]
    }
   ],
   "source": [
    "#print(data['total_income_category'].unique())\n",
    "#print()\n",
    "print('debt == 1:',data[data['debt']==1].groupby('total_income_category')['children'].count())\n",
    "print()\n",
    "print('debt == 0:',data[data['debt']==0].groupby('total_income_category')['children'].count())\n",
    "print()\n",
    "print('Таблица, указывающая процент должников в каждой категории:')\n",
    "for el in data['total_income_category'].unique():\n",
    "    print(el, (100*(data[(data['debt'] == 1) & (data['total_income_category'] == el)]['children'].count() /\n",
    "          data[data['total_income_category'] == el]['children'].count())).astype(int))"
   ]
  },
  {
   "cell_type": "markdown",
   "id": "296e7312",
   "metadata": {},
   "source": [
    "<div class=\"alert alert-info\">\n",
    "<b>Моя переделка по красному комментарию ревьюера №3</b>\n",
    "\n",
    "**VVVVVVVVVVVVVVVVVVVVVVVVVVVVVVVVVVVVVVVVVV**\n",
    "</div> "
   ]
  },
  {
   "cell_type": "code",
   "execution_count": 29,
   "id": "935642e3",
   "metadata": {},
   "outputs": [
    {
     "name": "stdout",
     "output_type": "stream",
     "text": [
      "                         count      mean     sum\n",
      "total_income_category                           \n",
      "A                         25.0  0.080000     2.0\n",
      "B                       5014.0  0.070602   354.0\n",
      "C                      15921.0  0.084982  1353.0\n",
      "D                        349.0  0.060172    21.0\n",
      "E                         22.0  0.090909     2.0\n"
     ]
    }
   ],
   "source": [
    "data_pivot3 = data.pivot_table(index = ['total_income_category'],  values = 'debt', aggfunc = {'sum','count','mean'})\n",
    "print(data_pivot3)"
   ]
  },
  {
   "cell_type": "markdown",
   "id": "7f5a02ac",
   "metadata": {
    "deletable": false,
    "id": "e8593def"
   },
   "source": [
    "**Вывод:** Статистика репрезентативна только для категорий дохода B-C. Для категорий A, D и E статистика довольно маленькая, не репрезентативная. Кат.B - 7.1% должников, кат.C - 8.5% должников. Чем больше доходов - тем лучше люди возвращают кредиты."
   ]
  },
  {
   "cell_type": "markdown",
   "id": "915e6ebb",
   "metadata": {},
   "source": [
    "<div class=\"alert alert-danger\">\n",
    "<b>Комментарий ревьюера №1</b> ❌\n",
    "    \n",
    "Здесь лучше делать выводы по двум самым крупным категориям - B и С. По остальным категориям данных недостаточно для корректных выводов, статпогрешность большая\n",
    "</div>"
   ]
  },
  {
   "cell_type": "markdown",
   "id": "090bb933",
   "metadata": {},
   "source": [
    "<div class=\"alert alert-success\">\n",
    "<b>Комментарий ревьюера №2</b> ✅\n",
    "    \n",
    "👍\n",
    "</div>"
   ]
  },
  {
   "cell_type": "markdown",
   "id": "af6d863b",
   "metadata": {
    "deletable": false,
    "editable": false,
    "id": "99ecbd1f"
   },
   "source": [
    "#### 3.4 Как разные цели кредита влияют на его возврат в срок?"
   ]
  },
  {
   "cell_type": "code",
   "execution_count": 30,
   "id": "b2e0c5c8",
   "metadata": {
    "deletable": false,
    "id": "2b687290"
   },
   "outputs": [
    {
     "name": "stdout",
     "output_type": "stream",
     "text": [
      "['операции с недвижимостью' 'операции с автомобилем'\n",
      " 'получение образования' 'проведение свадьбы']\n",
      "\n",
      "debt == 1: purpose_category\n",
      "операции с автомобилем      400\n",
      "операции с недвижимостью    780\n",
      "получение образования       369\n",
      "проведение свадьбы          183\n",
      "Name: children, dtype: int64\n",
      "\n",
      "debt == 0: purpose_category\n",
      "операции с автомобилем      3879\n",
      "операции с недвижимостью    9971\n",
      "получение образования       3619\n",
      "проведение свадьбы          2130\n",
      "Name: children, dtype: int64\n",
      "\n",
      "Таблица, указывающая процент должников в каждой категории:\n",
      "операции с недвижимостью 7\n",
      "операции с автомобилем 9\n",
      "получение образования 9\n",
      "проведение свадьбы 7\n"
     ]
    }
   ],
   "source": [
    "print(data['purpose_category'].unique())\n",
    "print()\n",
    "print('debt == 1:',data[data['debt']==1].groupby('purpose_category')['children'].count())\n",
    "print()\n",
    "print('debt == 0:',data[data['debt']==0].groupby('purpose_category')['children'].count())\n",
    "print()\n",
    "print('Таблица, указывающая процент должников в каждой категории:')\n",
    "for el in data['purpose_category'].unique():\n",
    "    print(el, (100*(data[(data['debt'] == 1) & (data['purpose_category'] == el)]['children'].count() /\n",
    "          data[data['purpose_category'] == el]['children'].count())).astype(int))# Ваш код будет здесь. Вы можете создавать новые ячейки."
   ]
  },
  {
   "cell_type": "markdown",
   "id": "94a635de",
   "metadata": {},
   "source": [
    "<div class=\"alert alert-info\">\n",
    "<b>Моя переделка по красному комментарию ревьюера №4</b>\n",
    "\n",
    "**VVVVVVVVVVVVVVVVVVVVVVVVVVVVVVVVVVVVVVVVVV**\n",
    "</div> "
   ]
  },
  {
   "cell_type": "code",
   "execution_count": 31,
   "id": "2dca6860",
   "metadata": {},
   "outputs": [
    {
     "name": "stdout",
     "output_type": "stream",
     "text": [
      "                            count      mean    sum\n",
      "purpose_category                                  \n",
      "операции с автомобилем     4279.0  0.093480  400.0\n",
      "операции с недвижимостью  10751.0  0.072551  780.0\n",
      "получение образования      3988.0  0.092528  369.0\n",
      "проведение свадьбы         2313.0  0.079118  183.0\n"
     ]
    }
   ],
   "source": [
    "data_pivot4 = data.pivot_table(index = ['purpose_category'],  values = 'debt', aggfunc = {'sum','count','mean'})\n",
    "print(data_pivot4)"
   ]
  },
  {
   "cell_type": "markdown",
   "id": "4c455174",
   "metadata": {
    "deletable": false,
    "id": "b4bb2ce6"
   },
   "source": [
    "**Вывод:** Наиболее популярная цель кредита - недвижка, при этом тут, самый низкий процент образования долга - 7.3%, минимальное значение по категориям. Вероятно к этой задаче, делам с недвижимостью, люди подходят с самой большой ответственностью. Свадьбы - 7.9% надежности, самая маленький представитель выборки в нашей подборке, процент низкий, вероятно, т.к. много людей может помочь в этом вопросе - аж до 2-х семей! Наиболее рисковые - 9.3% - операции с авто и обучение. Обучение - вероятно не сразу люди могут найти работу после обучения для возврата займа. Авто - трудно сказать, скорее всего причина в том, что авто - тот еще пассив, который тратит зачастую много средств, ну и часто люди покупают авто дороже, чем следовало бы. Обычно говорят, что надо покупать авто на 0.5 годового дохода."
   ]
  },
  {
   "cell_type": "markdown",
   "id": "3a4b2fe1",
   "metadata": {},
   "source": [
    "<div class=\"alert alert-danger\">\n",
    "<b>Комментарий ревьюера №1</b> ❌\n",
    "    \n",
    "Разница может быть значима для банка. Относительная разница составляет порядка 20%. Выдели, пожалуста, наиболее рискованные и наиболее надежные категории. Можно также подумать над причинами такого распределения\n",
    "</div>"
   ]
  },
  {
   "cell_type": "markdown",
   "id": "675960af",
   "metadata": {},
   "source": [
    "<div class=\"alert alert-success\">\n",
    "<b>Комментарий ревьюера №2</b> ✅\n",
    "    \n",
    "Хорошо\n",
    "</div>"
   ]
  },
  {
   "cell_type": "markdown",
   "id": "08e80026",
   "metadata": {
    "deletable": false,
    "editable": false,
    "id": "09c3ac4c"
   },
   "source": [
    "#### 3.5 Приведите возможные причины появления пропусков в исходных данных."
   ]
  },
  {
   "cell_type": "markdown",
   "id": "a0a0bc0f",
   "metadata": {},
   "source": [
    "<div class=\"alert alert-info\">\n",
    "<b>Обновил:</b></div> "
   ]
  },
  {
   "cell_type": "markdown",
   "id": "b84a18f3",
   "metadata": {
    "deletable": false,
    "id": "9da2ceda"
   },
   "source": [
    "*Ответ:*\n",
    "\n",
    "Фактор пользователя-человека-клиента банка: не заполнил поля случайно или умышленно (лень или желание скрыть какие-то детали).\n",
    "\n",
    "Виноват тех.специалист и данные не сохранились куда должны были или не выгрузились как/откуда нужно."
   ]
  },
  {
   "cell_type": "markdown",
   "id": "60b55d86",
   "metadata": {},
   "source": [
    "<div class=\"alert alert-danger\">\n",
    "<b>Комментарий ревьюера №1</b> ❌\n",
    "    \n",
    "Тут важно отметить человеческий и технический факторы. Клиенты могли не предоставить данные. Возможно, эту информацию не требуют в некоторых случаях. Проблемы могли возникнуть на этапе загрузки и на этапе выгрузки данных. Неправильный запрос, объединение таблиц также может быть причиной.\n",
    "</div>"
   ]
  },
  {
   "cell_type": "markdown",
   "id": "e5d47314",
   "metadata": {},
   "source": [
    "<div class=\"alert alert-warning\">\n",
    "<b>Комментарий ревьюера №1</b> ⚠️\n",
    "    \n",
    "Можно проверить, что пропуски в 'total_income' и 'days_employed' находятся на одних строках, например, так: \n",
    "    \n",
    "    len(data.loc[(data['days_employed'].isna()) & (data['total_income'].isna())])\n",
    "    \n",
    "Значений 2174, что совпадает со значениями пропусков в обоих столбцах по отдельности.\n",
    "</div>"
   ]
  },
  {
   "cell_type": "markdown",
   "id": "5d5eaa64",
   "metadata": {},
   "source": [
    "<div class=\"alert alert-success\">\n",
    "<b>Комментарий ревьюера №2</b> ✅\n",
    "    \n",
    "Ок\n",
    "</div>"
   ]
  },
  {
   "cell_type": "markdown",
   "id": "07e7bacf",
   "metadata": {
    "deletable": false,
    "editable": false,
    "id": "7b0487d6"
   },
   "source": [
    "#### 3.6 Объясните, почему заполнить пропуски медианным значением — лучшее решение для количественных переменных."
   ]
  },
  {
   "cell_type": "markdown",
   "id": "35a1b887",
   "metadata": {},
   "source": [
    "<div class=\"alert alert-info\">\n",
    "<b>Vyvod is listed:</b></div> "
   ]
  },
  {
   "cell_type": "markdown",
   "id": "56976d8a",
   "metadata": {
    "deletable": false,
    "id": "7ecf2b8e"
   },
   "source": [
    "*Ответ:*\n",
    "\n",
    "Если по каждой категории мы заполним пропущенные данные медианными (среди заполненных ранее), то не поменяется значение медианы в общей выборке выбранной категории (заполненные ранее + fillna медианой заполненных ранее). Потому что медиана - среднее значение в вариационной ряду и более репрезентативна для оценки средних количетсвенных величин, типа зп, температура и т.д. (Как в примере: 20-20-20-20-100 - mean == 36, median == 20). \n",
    "\n",
    "Если мы заполним пропуски **средними** значениями, а не медианными, то поменяется значение медианы. А ведь изначальное значение медианы для нас информативно, т.к. это настоящие данные! а не fillna"
   ]
  },
  {
   "cell_type": "markdown",
   "id": "fbc14552",
   "metadata": {},
   "source": [
    "<div class=\"alert alert-danger\">\n",
    "<b>Комментарий ревьюера №1</b> ❌\n",
    "    \n",
    "Напиши, пожалуйста, почему мы заполнили пропуски медианой, а не средним, например, и почему нам важно сохранить значение медианы\n",
    "</div>"
   ]
  },
  {
   "cell_type": "markdown",
   "id": "487d2c60",
   "metadata": {},
   "source": [
    "<div class=\"alert alert-warning\">\n",
    "<b>Комментарий ревьюера №2</b> ⚠️\n",
    "    \n",
    "Среднее и медиана различаются, если в выборке присутствуют выбросы (значения, выделяющиеся из общей выборки). Медиана позволяет нивелировать их влияние.\n",
    "</div>"
   ]
  },
  {
   "cell_type": "markdown",
   "id": "aeb1a736",
   "metadata": {
    "deletable": false,
    "editable": false,
    "id": "6db5255a"
   },
   "source": [
    "### Шаг 4: общий вывод."
   ]
  },
  {
   "cell_type": "markdown",
   "id": "af79582f",
   "metadata": {
    "deletable": false,
    "id": "bad65432"
   },
   "source": [
    "Было проведено исследование надежности заемщиков (НЗ). По анализу *имеющихся данных* можно сделать вывод о том, что нет зависимости между НЗ и уровнем дохода заемщика, нет зависимости между НЗ и количеством детей у заемщика, также нет зависимости между НЗ и целью получения кредита, как и нет зависимости между НЗ и семейным положением заемщика. Проценты находятся в пределах погрешности статистики."
   ]
  },
  {
   "cell_type": "markdown",
   "id": "fe58fbba",
   "metadata": {},
   "source": [
    "<div class=\"alert alert-info\">\n",
    "<b>My new main Vyvod is listed:</b></div> "
   ]
  },
  {
   "cell_type": "markdown",
   "id": "3d2e16b0",
   "metadata": {},
   "source": [
    "# ГЛАВНЫЙ ВЫВОД ИССЛЕДОВАНИЯ"
   ]
  },
  {
   "cell_type": "markdown",
   "id": "8dd7a747",
   "metadata": {},
   "source": [
    "Было проведено исследование надежности заемщиков (НЗ).\n",
    "\n",
    "Входные данные: 21331 записи о заемщиках.\n",
    "\n",
    "Был проведен анализ НЗ в зависимости от\n",
    "\n",
    "        числа детей заемщика,\n",
    "        \n",
    "        семейного положения заемщика,\n",
    "        \n",
    "        уровня дохода,\n",
    "        \n",
    "      и целью получения кредита.\n",
    "      \n",
    "Семейные люди более надежны, как заемщики. Люди с более высоким доходом более надежны, чем люди с меньшим доходом. К финансовым вопросам свадьбы и операциям с недвижимостью люди подходят более ответственно, чем к вопросам с авто и получением профессионального образования/следующей ступени образования. Чем меньше детей у заемщика - тем он более надежен.\n",
    "\n",
    "**Выводы сделаны исключительно на выданных для этой задачи данных.**"
   ]
  },
  {
   "cell_type": "markdown",
   "id": "17c5e62a",
   "metadata": {},
   "source": [
    "<div class=\"alert alert-danger\">\n",
    "<b>Комментарий ревьюера №1</b> ❌\n",
    " \n",
    "Выводы нужно будет исправить после изменений в проекте. В первую очередь обращают внимание на выводы - это отчет перед заказчиком. Здесь нужно описать какая работа над данными была проведена и каких результатов удалось добиться. Опиши все зависимости. Рекомендованная структура выводов следующая:\n",
    "    \n",
    "- абзац по предобработке данных, что было сделано\n",
    "    \n",
    "- выявленные зависимости просрочки от разных факторов в общем виде\n",
    "    \n",
    "- портреты надежного и рискованного заемщика\n",
    "    \n",
    "- рекомендации заказчику\n",
    "</div>"
   ]
  },
  {
   "cell_type": "markdown",
   "id": "16ffa26a",
   "metadata": {},
   "source": [
    "<div class=\"alert alert-success\">\n",
    "<b>Комментарий ревьюера №2</b> ✅\n",
    "    \n",
    "Можно написать о том, что было сделано в предобработке. В качестве рекомендаций можно предложить другую категоризацию по доходам. Или исследовать другие признаки, рассчитать другие метрики (отношение дохода к сумме выплат и др.). В анкете сделать поля о доходе и стаже обязательными к заполнению, добавить автопроверку на формат вводимых пользователем данных\n",
    "</div>"
   ]
  },
  {
   "cell_type": "markdown",
   "id": "91ee9b24",
   "metadata": {},
   "source": [
    "<div class=\"alert alert-info\">\n",
    "<b>Спасибо Екатерина! А можно \"Катя\"? Ты мой ревьюр навсегда или только на этот спринт?</b></div> "
   ]
  },
  {
   "cell_type": "markdown",
   "id": "42020b7c",
   "metadata": {},
   "source": [
    "<div class=\"alert alert-success\">\n",
    "<b>Комментарий ревьюера №2</b> ✅\n",
    "    \n",
    "Только на этот спринт. Есть вероятность, что будет мэтч в следующих проектах, но она мала.\n",
    "</div>"
   ]
  },
  {
   "cell_type": "markdown",
   "id": "395d03bb",
   "metadata": {},
   "source": [
    "<div style=\"border:solid purple 2px; padding: 20px\"> \n",
    "<b> <font color='purple' >   \n",
    "    \n",
    "Ты хорошо постарался, но проект еще нуждается в доработке. Нужно построить сводные в каждом вопросе, проверить выводы, дополнить причины пропусков и ответ про заполнение пропусков. Доделывай и присылай на повторную проверку.\n",
    "        \n",
    "Жду твоих исправлений 😊\n",
    "</font></b>\n",
    "</div>"
   ]
  },
  {
   "cell_type": "markdown",
   "id": "cc0367f4",
   "metadata": {},
   "source": [
    "<div style=\"border:solid purple 2px; padding: 20px\"> \n",
    "<b> <font color='purple' >   \n",
    "Отлично! Критических замечаний больше нет. Проект принят! 👏 Поздравляю и желаю удачи!\n",
    "</font></b>\n",
    "</div>"
   ]
  },
  {
   "cell_type": "code",
   "execution_count": null,
   "id": "d0380875",
   "metadata": {},
   "outputs": [],
   "source": []
  },
  {
   "cell_type": "code",
   "execution_count": null,
   "id": "4d81ddb1",
   "metadata": {},
   "outputs": [],
   "source": []
  },
  {
   "cell_type": "code",
   "execution_count": 1,
   "id": "e6236a53",
   "metadata": {},
   "outputs": [
    {
     "ename": "NameError",
     "evalue": "name 'a' is not defined",
     "output_type": "error",
     "traceback": [
      "\u001b[1;31m---------------------------------------------------------------------------\u001b[0m",
      "\u001b[1;31mNameError\u001b[0m                                 Traceback (most recent call last)",
      "\u001b[1;32m~\\AppData\\Local\\Temp/ipykernel_48188/2167009006.py\u001b[0m in \u001b[0;36m<module>\u001b[1;34m\u001b[0m\n\u001b[1;32m----> 1\u001b[1;33m \u001b[0ma\u001b[0m\u001b[1;33m\u001b[0m\u001b[1;33m\u001b[0m\u001b[0m\n\u001b[0m",
      "\u001b[1;31mNameError\u001b[0m: name 'a' is not defined"
     ]
    }
   ],
   "source": [
    "a"
   ]
  },
  {
   "cell_type": "code",
   "execution_count": null,
   "id": "16232d69",
   "metadata": {},
   "outputs": [],
   "source": []
  }
 ],
 "metadata": {
  "ExecuteTimeLog": [
   {
    "duration": 46,
    "start_time": "2024-01-29T06:35:52.412Z"
   },
   {
    "duration": 7,
    "start_time": "2024-01-29T06:35:54.984Z"
   },
   {
    "duration": 451,
    "start_time": "2024-01-29T06:35:58.888Z"
   },
   {
    "duration": 20,
    "start_time": "2024-01-29T06:35:59.341Z"
   },
   {
    "duration": 16,
    "start_time": "2024-01-29T06:35:59.473Z"
   },
   {
    "duration": 11,
    "start_time": "2024-01-29T06:36:00.075Z"
   },
   {
    "duration": 32,
    "start_time": "2024-01-29T06:36:00.390Z"
   },
   {
    "duration": 3,
    "start_time": "2024-01-29T06:36:01.085Z"
   },
   {
    "duration": 9,
    "start_time": "2024-01-29T06:36:01.435Z"
   },
   {
    "duration": 4,
    "start_time": "2024-01-29T06:36:02.076Z"
   },
   {
    "duration": 6,
    "start_time": "2024-01-29T06:36:02.669Z"
   },
   {
    "duration": 5,
    "start_time": "2024-01-29T06:36:05.382Z"
   },
   {
    "duration": 34,
    "start_time": "2024-01-29T06:36:07.119Z"
   },
   {
    "duration": 10,
    "start_time": "2024-01-29T06:36:07.864Z"
   },
   {
    "duration": 4,
    "start_time": "2024-01-29T06:36:28.280Z"
   },
   {
    "duration": 12,
    "start_time": "2024-01-29T06:36:29.290Z"
   },
   {
    "duration": 27,
    "start_time": "2024-01-29T06:38:15.584Z"
   },
   {
    "duration": 3,
    "start_time": "2024-01-29T06:38:19.034Z"
   },
   {
    "duration": 10,
    "start_time": "2024-01-29T06:38:19.397Z"
   },
   {
    "duration": 10,
    "start_time": "2024-01-29T06:39:04.229Z"
   },
   {
    "duration": 7,
    "start_time": "2024-01-29T06:39:04.832Z"
   },
   {
    "duration": 3,
    "start_time": "2024-01-29T06:39:09.423Z"
   },
   {
    "duration": 3,
    "start_time": "2024-01-29T06:39:27.723Z"
   },
   {
    "duration": 3,
    "start_time": "2024-01-29T06:39:33.078Z"
   },
   {
    "duration": 8,
    "start_time": "2024-01-29T06:39:33.692Z"
   },
   {
    "duration": 21,
    "start_time": "2024-01-29T07:09:05.233Z"
   },
   {
    "duration": 12,
    "start_time": "2024-01-29T07:09:28.811Z"
   },
   {
    "duration": 17,
    "start_time": "2024-01-29T07:18:37.495Z"
   },
   {
    "duration": 5,
    "start_time": "2024-01-29T07:18:58.719Z"
   },
   {
    "duration": 5,
    "start_time": "2024-01-29T07:19:07.140Z"
   },
   {
    "duration": 6,
    "start_time": "2024-01-29T07:19:09.691Z"
   },
   {
    "duration": 5,
    "start_time": "2024-01-29T07:19:18.507Z"
   },
   {
    "duration": 5,
    "start_time": "2024-01-29T07:19:50.636Z"
   },
   {
    "duration": 8,
    "start_time": "2024-01-29T07:21:13.106Z"
   },
   {
    "duration": 8,
    "start_time": "2024-01-29T07:21:19.172Z"
   },
   {
    "duration": 8,
    "start_time": "2024-01-29T07:21:23.139Z"
   },
   {
    "duration": 74,
    "start_time": "2024-01-29T07:21:35.751Z"
   },
   {
    "duration": 8,
    "start_time": "2024-01-29T07:21:47.255Z"
   },
   {
    "duration": 8,
    "start_time": "2024-01-29T07:22:16.992Z"
   },
   {
    "duration": 17,
    "start_time": "2024-01-29T07:22:51.482Z"
   },
   {
    "duration": 14,
    "start_time": "2024-01-29T07:22:54.651Z"
   },
   {
    "duration": 18,
    "start_time": "2024-01-29T07:23:04.355Z"
   },
   {
    "duration": 16,
    "start_time": "2024-01-29T07:23:11.056Z"
   },
   {
    "duration": 21,
    "start_time": "2024-01-29T07:24:10.007Z"
   },
   {
    "duration": 22,
    "start_time": "2024-01-29T07:26:13.492Z"
   },
   {
    "duration": 25,
    "start_time": "2024-01-29T07:26:27.585Z"
   },
   {
    "duration": 25,
    "start_time": "2024-01-29T07:27:29.476Z"
   },
   {
    "duration": 26,
    "start_time": "2024-01-29T07:27:37.189Z"
   },
   {
    "duration": 49,
    "start_time": "2024-01-29T07:27:51.666Z"
   },
   {
    "duration": 27,
    "start_time": "2024-01-29T07:27:58.288Z"
   },
   {
    "duration": 3,
    "start_time": "2024-01-29T07:28:45.542Z"
   },
   {
    "duration": 5,
    "start_time": "2024-01-29T07:28:54.902Z"
   },
   {
    "duration": 5,
    "start_time": "2024-01-29T07:29:26.279Z"
   },
   {
    "duration": 4,
    "start_time": "2024-01-29T07:37:26.987Z"
   },
   {
    "duration": 1695,
    "start_time": "2024-01-29T07:37:57.571Z"
   },
   {
    "duration": 5,
    "start_time": "2024-01-29T07:38:12.700Z"
   },
   {
    "duration": 5,
    "start_time": "2024-01-29T07:38:28.370Z"
   },
   {
    "duration": 4,
    "start_time": "2024-01-29T07:38:35.656Z"
   },
   {
    "duration": 7,
    "start_time": "2024-01-29T07:45:03.857Z"
   },
   {
    "duration": 13,
    "start_time": "2024-01-29T07:45:21.098Z"
   },
   {
    "duration": 12,
    "start_time": "2024-01-29T07:45:28.451Z"
   },
   {
    "duration": 8,
    "start_time": "2024-01-29T07:45:37.390Z"
   },
   {
    "duration": 12,
    "start_time": "2024-01-29T07:46:02.090Z"
   },
   {
    "duration": 8,
    "start_time": "2024-01-29T07:46:13.060Z"
   },
   {
    "duration": 9,
    "start_time": "2024-01-29T07:46:16.679Z"
   },
   {
    "duration": 11,
    "start_time": "2024-01-29T07:46:27.256Z"
   },
   {
    "duration": 14,
    "start_time": "2024-01-29T07:46:30.197Z"
   },
   {
    "duration": 16,
    "start_time": "2024-01-29T07:51:39.104Z"
   },
   {
    "duration": 6,
    "start_time": "2024-01-29T07:54:24.390Z"
   },
   {
    "duration": 66,
    "start_time": "2024-01-29T07:55:11.215Z"
   },
   {
    "duration": 38,
    "start_time": "2024-01-29T07:55:38.814Z"
   },
   {
    "duration": 43,
    "start_time": "2024-01-29T07:57:07.623Z"
   },
   {
    "duration": 38,
    "start_time": "2024-01-29T07:57:22.875Z"
   },
   {
    "duration": 39,
    "start_time": "2024-01-29T08:07:20.992Z"
   },
   {
    "duration": 37,
    "start_time": "2024-01-29T08:17:36.265Z"
   },
   {
    "duration": 1598,
    "start_time": "2024-01-29T08:24:25.212Z"
   },
   {
    "duration": 37,
    "start_time": "2024-01-29T08:24:42.735Z"
   },
   {
    "duration": 691,
    "start_time": "2024-01-29T08:43:15.067Z"
   },
   {
    "duration": 24,
    "start_time": "2024-01-29T08:43:15.760Z"
   },
   {
    "duration": 16,
    "start_time": "2024-01-29T08:43:15.786Z"
   },
   {
    "duration": 25,
    "start_time": "2024-01-29T08:43:15.804Z"
   },
   {
    "duration": 49,
    "start_time": "2024-01-29T08:43:15.832Z"
   },
   {
    "duration": 4,
    "start_time": "2024-01-29T08:43:15.883Z"
   },
   {
    "duration": 39,
    "start_time": "2024-01-29T08:43:15.889Z"
   },
   {
    "duration": 39,
    "start_time": "2024-01-29T08:43:15.931Z"
   },
   {
    "duration": 25,
    "start_time": "2024-01-29T08:43:15.972Z"
   },
   {
    "duration": 14,
    "start_time": "2024-01-29T08:43:15.999Z"
   },
   {
    "duration": 65,
    "start_time": "2024-01-29T08:43:16.014Z"
   },
   {
    "duration": 11,
    "start_time": "2024-01-29T08:43:16.080Z"
   },
   {
    "duration": 36,
    "start_time": "2024-01-29T08:43:16.093Z"
   },
   {
    "duration": 30,
    "start_time": "2024-01-29T08:43:16.132Z"
   },
   {
    "duration": 41,
    "start_time": "2024-01-29T08:43:16.164Z"
   },
   {
    "duration": 18,
    "start_time": "2024-01-29T08:43:16.207Z"
   },
   {
    "duration": 5,
    "start_time": "2024-01-29T08:43:16.227Z"
   },
   {
    "duration": 25,
    "start_time": "2024-01-29T08:43:16.234Z"
   },
   {
    "duration": 37,
    "start_time": "2024-01-29T08:43:16.260Z"
   },
   {
    "duration": 8,
    "start_time": "2024-01-29T08:43:16.299Z"
   },
   {
    "duration": 54,
    "start_time": "2024-01-29T08:43:16.309Z"
   },
   {
    "duration": 20,
    "start_time": "2024-01-29T08:43:16.364Z"
   },
   {
    "duration": 48,
    "start_time": "2024-01-29T08:43:16.386Z"
   },
   {
    "duration": 44,
    "start_time": "2024-01-29T08:43:16.435Z"
   },
   {
    "duration": 55,
    "start_time": "2024-01-29T08:43:16.481Z"
   },
   {
    "duration": 37,
    "start_time": "2024-01-29T08:43:16.538Z"
   },
   {
    "duration": 108,
    "start_time": "2024-01-29T09:23:37.023Z"
   },
   {
    "duration": 76,
    "start_time": "2024-01-29T10:16:25.825Z"
   },
   {
    "duration": 20,
    "start_time": "2024-01-29T11:13:11.315Z"
   },
   {
    "duration": 18,
    "start_time": "2024-01-29T11:13:18.372Z"
   },
   {
    "duration": 19,
    "start_time": "2024-01-29T11:13:37.484Z"
   },
   {
    "duration": 16,
    "start_time": "2024-01-29T11:13:39.211Z"
   },
   {
    "duration": 1661,
    "start_time": "2024-01-29T11:13:50.697Z"
   },
   {
    "duration": 18,
    "start_time": "2024-01-29T11:13:57.609Z"
   },
   {
    "duration": 15,
    "start_time": "2024-01-29T11:14:31.332Z"
   },
   {
    "duration": 17,
    "start_time": "2024-01-29T11:14:35.564Z"
   },
   {
    "duration": 23,
    "start_time": "2024-01-29T11:31:35.513Z"
   },
   {
    "duration": 11,
    "start_time": "2024-01-29T11:31:55.517Z"
   },
   {
    "duration": 65,
    "start_time": "2024-01-29T11:42:29.590Z"
   },
   {
    "duration": 67,
    "start_time": "2024-01-29T11:42:33.214Z"
   },
   {
    "duration": 17,
    "start_time": "2024-01-29T11:43:19.139Z"
   },
   {
    "duration": 17,
    "start_time": "2024-01-29T11:43:30.529Z"
   },
   {
    "duration": 16,
    "start_time": "2024-01-29T11:46:14.189Z"
   },
   {
    "duration": 18,
    "start_time": "2024-01-29T11:46:18.206Z"
   },
   {
    "duration": 17,
    "start_time": "2024-01-29T11:46:43.181Z"
   },
   {
    "duration": 16,
    "start_time": "2024-01-29T11:46:47.938Z"
   },
   {
    "duration": 71,
    "start_time": "2024-01-29T11:47:55.035Z"
   },
   {
    "duration": 88,
    "start_time": "2024-01-29T11:48:12.139Z"
   },
   {
    "duration": 17,
    "start_time": "2024-01-29T11:48:19.938Z"
   },
   {
    "duration": 7,
    "start_time": "2024-01-29T11:49:26.287Z"
   },
   {
    "duration": 7,
    "start_time": "2024-01-29T11:49:44.224Z"
   },
   {
    "duration": 7,
    "start_time": "2024-01-29T11:49:53.741Z"
   },
   {
    "duration": 16,
    "start_time": "2024-01-29T11:50:06.120Z"
   },
   {
    "duration": 16,
    "start_time": "2024-01-29T11:52:06.876Z"
   },
   {
    "duration": 17,
    "start_time": "2024-01-29T11:52:12.766Z"
   },
   {
    "duration": 17,
    "start_time": "2024-01-29T11:52:17.122Z"
   },
   {
    "duration": 16,
    "start_time": "2024-01-29T11:53:01.906Z"
   },
   {
    "duration": 17,
    "start_time": "2024-01-29T11:55:57.844Z"
   },
   {
    "duration": 1624,
    "start_time": "2024-01-29T11:59:12.428Z"
   },
   {
    "duration": 10,
    "start_time": "2024-01-29T11:59:17.241Z"
   },
   {
    "duration": 13,
    "start_time": "2024-01-29T12:01:02.594Z"
   },
   {
    "duration": 11,
    "start_time": "2024-01-29T12:01:07.576Z"
   },
   {
    "duration": 70,
    "start_time": "2024-01-29T12:01:11.262Z"
   },
   {
    "duration": 84,
    "start_time": "2024-01-29T12:01:17.210Z"
   },
   {
    "duration": 8,
    "start_time": "2024-01-29T12:01:47.571Z"
   },
   {
    "duration": 10,
    "start_time": "2024-01-29T12:01:56.282Z"
   },
   {
    "duration": 80,
    "start_time": "2024-01-29T12:02:05.401Z"
   },
   {
    "duration": 13,
    "start_time": "2024-01-29T12:02:29.713Z"
   },
   {
    "duration": 8,
    "start_time": "2024-01-29T12:04:56.353Z"
   },
   {
    "duration": 15,
    "start_time": "2024-01-29T12:05:07.219Z"
   },
   {
    "duration": 20,
    "start_time": "2024-01-29T12:05:19.983Z"
   },
   {
    "duration": 26,
    "start_time": "2024-01-29T12:05:29.967Z"
   },
   {
    "duration": 29,
    "start_time": "2024-01-29T12:05:34.358Z"
   },
   {
    "duration": 23,
    "start_time": "2024-01-29T12:08:02.603Z"
   },
   {
    "duration": 23,
    "start_time": "2024-01-29T12:08:40.950Z"
   },
   {
    "duration": 35,
    "start_time": "2024-01-29T12:09:26.272Z"
   },
   {
    "duration": 10,
    "start_time": "2024-01-29T12:09:40.370Z"
   },
   {
    "duration": 15,
    "start_time": "2024-01-29T12:10:03.771Z"
   },
   {
    "duration": 22,
    "start_time": "2024-01-29T12:11:38.859Z"
   },
   {
    "duration": 20,
    "start_time": "2024-01-29T12:12:00.081Z"
   },
   {
    "duration": 16,
    "start_time": "2024-01-29T12:12:08.523Z"
   },
   {
    "duration": 5,
    "start_time": "2024-01-29T12:12:43.503Z"
   },
   {
    "duration": 4,
    "start_time": "2024-01-29T12:13:35.702Z"
   },
   {
    "duration": 16,
    "start_time": "2024-01-29T12:14:01.041Z"
   },
   {
    "duration": 72,
    "start_time": "2024-01-29T12:16:21.145Z"
   },
   {
    "duration": 3,
    "start_time": "2024-01-29T12:16:47.223Z"
   },
   {
    "duration": 5,
    "start_time": "2024-01-29T12:16:49.382Z"
   },
   {
    "duration": 22,
    "start_time": "2024-01-29T12:17:04.271Z"
   },
   {
    "duration": 27,
    "start_time": "2024-01-29T12:17:10.037Z"
   },
   {
    "duration": 16,
    "start_time": "2024-01-29T12:17:12.550Z"
   },
   {
    "duration": 4,
    "start_time": "2024-01-29T12:17:32.900Z"
   },
   {
    "duration": 74,
    "start_time": "2024-01-29T12:17:51.004Z"
   },
   {
    "duration": 14,
    "start_time": "2024-01-29T12:17:51.283Z"
   },
   {
    "duration": 13,
    "start_time": "2024-01-29T12:17:51.533Z"
   },
   {
    "duration": 10,
    "start_time": "2024-01-29T12:17:52.599Z"
   },
   {
    "duration": 33,
    "start_time": "2024-01-29T12:17:52.702Z"
   },
   {
    "duration": 3,
    "start_time": "2024-01-29T12:17:52.807Z"
   },
   {
    "duration": 7,
    "start_time": "2024-01-29T12:17:52.907Z"
   },
   {
    "duration": 4,
    "start_time": "2024-01-29T12:17:53.044Z"
   },
   {
    "duration": 5,
    "start_time": "2024-01-29T12:17:53.132Z"
   },
   {
    "duration": 5,
    "start_time": "2024-01-29T12:17:53.186Z"
   },
   {
    "duration": 39,
    "start_time": "2024-01-29T12:17:53.320Z"
   },
   {
    "duration": 9,
    "start_time": "2024-01-29T12:17:53.421Z"
   },
   {
    "duration": 3,
    "start_time": "2024-01-29T12:17:53.953Z"
   },
   {
    "duration": 18,
    "start_time": "2024-01-29T12:17:54.416Z"
   },
   {
    "duration": 17,
    "start_time": "2024-01-29T12:17:54.713Z"
   },
   {
    "duration": 16,
    "start_time": "2024-01-29T12:17:54.852Z"
   },
   {
    "duration": 3,
    "start_time": "2024-01-29T12:17:55.279Z"
   },
   {
    "duration": 12,
    "start_time": "2024-01-29T12:17:55.408Z"
   },
   {
    "duration": 6,
    "start_time": "2024-01-29T12:17:55.687Z"
   },
   {
    "duration": 3,
    "start_time": "2024-01-29T12:17:56.029Z"
   },
   {
    "duration": 9,
    "start_time": "2024-01-29T12:17:56.373Z"
   },
   {
    "duration": 4,
    "start_time": "2024-01-29T12:17:58.480Z"
   },
   {
    "duration": 29,
    "start_time": "2024-01-29T12:18:00.052Z"
   },
   {
    "duration": 4,
    "start_time": "2024-01-29T12:18:02.984Z"
   },
   {
    "duration": 16,
    "start_time": "2024-01-29T12:18:03.430Z"
   },
   {
    "duration": 3,
    "start_time": "2024-01-29T12:18:35.984Z"
   },
   {
    "duration": 3,
    "start_time": "2024-01-29T12:18:37.707Z"
   },
   {
    "duration": 3,
    "start_time": "2024-01-29T12:18:43.160Z"
   },
   {
    "duration": 1875,
    "start_time": "2024-01-29T12:19:37.990Z"
   },
   {
    "duration": 16,
    "start_time": "2024-01-29T12:19:52.103Z"
   },
   {
    "duration": 1702,
    "start_time": "2024-01-29T12:20:36.034Z"
   },
   {
    "duration": 1617,
    "start_time": "2024-01-29T12:20:52.129Z"
   },
   {
    "duration": 1633,
    "start_time": "2024-01-29T12:20:56.225Z"
   },
   {
    "duration": 1663,
    "start_time": "2024-01-29T12:21:00.230Z"
   },
   {
    "duration": 16,
    "start_time": "2024-01-29T12:21:05.328Z"
   },
   {
    "duration": 14,
    "start_time": "2024-01-29T12:21:50.373Z"
   },
   {
    "duration": 19,
    "start_time": "2024-01-29T12:22:07.997Z"
   },
   {
    "duration": 41,
    "start_time": "2024-01-29T12:22:19.930Z"
   },
   {
    "duration": 39,
    "start_time": "2024-01-29T12:23:04.369Z"
   },
   {
    "duration": 41,
    "start_time": "2024-01-29T12:23:08.382Z"
   },
   {
    "duration": 14,
    "start_time": "2024-01-29T12:23:29.605Z"
   },
   {
    "duration": 17,
    "start_time": "2024-01-29T12:24:58.325Z"
   },
   {
    "duration": 88,
    "start_time": "2024-01-29T12:25:14.365Z"
   },
   {
    "duration": 1820,
    "start_time": "2024-01-29T12:25:16.845Z"
   },
   {
    "duration": 1850,
    "start_time": "2024-01-29T12:25:22.810Z"
   },
   {
    "duration": 18,
    "start_time": "2024-01-29T12:25:26.657Z"
   },
   {
    "duration": 11,
    "start_time": "2024-01-29T12:28:16.306Z"
   },
   {
    "duration": 11,
    "start_time": "2024-01-29T12:28:21.541Z"
   },
   {
    "duration": 86,
    "start_time": "2024-01-29T12:28:45.294Z"
   },
   {
    "duration": 75,
    "start_time": "2024-01-29T12:28:54.020Z"
   },
   {
    "duration": 71,
    "start_time": "2024-01-29T12:28:59.742Z"
   },
   {
    "duration": 76,
    "start_time": "2024-01-29T12:29:02.131Z"
   },
   {
    "duration": 14,
    "start_time": "2024-01-29T12:29:06.622Z"
   },
   {
    "duration": 18,
    "start_time": "2024-01-29T12:29:09.130Z"
   },
   {
    "duration": 17,
    "start_time": "2024-01-29T12:32:32.851Z"
   },
   {
    "duration": 17,
    "start_time": "2024-01-29T12:32:56.540Z"
   },
   {
    "duration": 20,
    "start_time": "2024-01-29T12:33:01.172Z"
   },
   {
    "duration": 18,
    "start_time": "2024-01-29T12:33:04.025Z"
   },
   {
    "duration": 92,
    "start_time": "2024-01-29T12:39:19.954Z"
   },
   {
    "duration": 28,
    "start_time": "2024-01-29T12:42:15.881Z"
   },
   {
    "duration": 38,
    "start_time": "2024-01-29T12:47:00.956Z"
   },
   {
    "duration": 72,
    "start_time": "2024-01-29T12:47:31.078Z"
   },
   {
    "duration": 22,
    "start_time": "2024-01-29T12:50:01.955Z"
   },
   {
    "duration": 19,
    "start_time": "2024-01-29T12:51:03.066Z"
   },
   {
    "duration": 70,
    "start_time": "2024-01-29T12:54:57.730Z"
   },
   {
    "duration": 19,
    "start_time": "2024-01-29T12:55:39.456Z"
   },
   {
    "duration": 6,
    "start_time": "2024-01-29T13:01:58.419Z"
   },
   {
    "duration": 9,
    "start_time": "2024-01-29T13:02:16.770Z"
   },
   {
    "duration": 76,
    "start_time": "2024-01-29T13:02:37.137Z"
   },
   {
    "duration": 19,
    "start_time": "2024-01-29T13:02:52.239Z"
   },
   {
    "duration": 18,
    "start_time": "2024-01-29T13:03:39.310Z"
   },
   {
    "duration": 6,
    "start_time": "2024-01-29T13:03:44.130Z"
   },
   {
    "duration": 3,
    "start_time": "2024-01-29T13:15:31.867Z"
   },
   {
    "duration": 545,
    "start_time": "2024-01-29T14:11:10.303Z"
   },
   {
    "duration": 24,
    "start_time": "2024-01-29T14:11:10.850Z"
   },
   {
    "duration": 16,
    "start_time": "2024-01-29T14:11:10.876Z"
   },
   {
    "duration": 11,
    "start_time": "2024-01-29T14:11:10.894Z"
   },
   {
    "duration": 20,
    "start_time": "2024-01-29T14:11:10.906Z"
   },
   {
    "duration": 52,
    "start_time": "2024-01-29T14:11:10.928Z"
   },
   {
    "duration": 4,
    "start_time": "2024-01-29T14:11:10.982Z"
   },
   {
    "duration": 46,
    "start_time": "2024-01-29T14:11:10.987Z"
   },
   {
    "duration": 30,
    "start_time": "2024-01-29T14:11:11.034Z"
   },
   {
    "duration": 8,
    "start_time": "2024-01-29T14:11:11.068Z"
   },
   {
    "duration": 8,
    "start_time": "2024-01-29T14:11:11.078Z"
   },
   {
    "duration": 39,
    "start_time": "2024-01-29T14:11:11.087Z"
   },
   {
    "duration": 11,
    "start_time": "2024-01-29T14:11:11.127Z"
   },
   {
    "duration": 3,
    "start_time": "2024-01-29T14:11:11.140Z"
   },
   {
    "duration": 30,
    "start_time": "2024-01-29T14:11:11.145Z"
   },
   {
    "duration": 23,
    "start_time": "2024-01-29T14:11:11.177Z"
   },
   {
    "duration": 17,
    "start_time": "2024-01-29T14:11:11.201Z"
   },
   {
    "duration": 4,
    "start_time": "2024-01-29T14:11:11.219Z"
   },
   {
    "duration": 12,
    "start_time": "2024-01-29T14:11:11.224Z"
   },
   {
    "duration": 5,
    "start_time": "2024-01-29T14:11:11.238Z"
   },
   {
    "duration": 30,
    "start_time": "2024-01-29T14:11:11.245Z"
   },
   {
    "duration": 25,
    "start_time": "2024-01-29T14:11:11.276Z"
   },
   {
    "duration": 7,
    "start_time": "2024-01-29T14:11:11.303Z"
   },
   {
    "duration": 35,
    "start_time": "2024-01-29T14:11:11.311Z"
   },
   {
    "duration": 25,
    "start_time": "2024-01-29T14:11:11.348Z"
   },
   {
    "duration": 40,
    "start_time": "2024-01-29T14:11:11.375Z"
   },
   {
    "duration": 20,
    "start_time": "2024-01-29T14:11:11.416Z"
   },
   {
    "duration": 61,
    "start_time": "2024-01-29T14:11:11.439Z"
   },
   {
    "duration": 20,
    "start_time": "2024-01-29T14:11:11.502Z"
   },
   {
    "duration": 60,
    "start_time": "2024-01-29T14:11:11.524Z"
   },
   {
    "duration": 21,
    "start_time": "2024-01-29T14:11:11.586Z"
   },
   {
    "duration": 75,
    "start_time": "2024-01-29T14:52:50.227Z"
   },
   {
    "duration": 15,
    "start_time": "2024-01-29T14:52:50.733Z"
   },
   {
    "duration": 14,
    "start_time": "2024-01-29T14:52:51.046Z"
   },
   {
    "duration": 10,
    "start_time": "2024-01-29T14:52:51.921Z"
   },
   {
    "duration": 6,
    "start_time": "2024-01-29T14:52:52.279Z"
   },
   {
    "duration": 37,
    "start_time": "2024-01-29T14:52:52.754Z"
   },
   {
    "duration": 3,
    "start_time": "2024-01-29T14:52:53.432Z"
   },
   {
    "duration": 10,
    "start_time": "2024-01-29T14:52:53.881Z"
   },
   {
    "duration": 4,
    "start_time": "2024-01-29T14:52:54.879Z"
   },
   {
    "duration": 7,
    "start_time": "2024-01-29T14:52:55.578Z"
   },
   {
    "duration": 4,
    "start_time": "2024-01-29T14:52:56.894Z"
   },
   {
    "duration": 34,
    "start_time": "2024-01-29T14:52:59.558Z"
   },
   {
    "duration": 11,
    "start_time": "2024-01-29T14:53:00.497Z"
   },
   {
    "duration": 4,
    "start_time": "2024-01-29T14:53:01.291Z"
   },
   {
    "duration": 12,
    "start_time": "2024-01-29T14:53:01.888Z"
   },
   {
    "duration": 18,
    "start_time": "2024-01-29T14:53:02.272Z"
   },
   {
    "duration": 18,
    "start_time": "2024-01-29T14:53:02.466Z"
   },
   {
    "duration": 4,
    "start_time": "2024-01-29T14:53:03.456Z"
   },
   {
    "duration": 11,
    "start_time": "2024-01-29T14:53:04.096Z"
   },
   {
    "duration": 5,
    "start_time": "2024-01-29T14:53:05.314Z"
   },
   {
    "duration": 3,
    "start_time": "2024-01-29T14:53:08.205Z"
   },
   {
    "duration": 9,
    "start_time": "2024-01-29T14:53:11.598Z"
   },
   {
    "duration": 4,
    "start_time": "2024-01-29T14:53:14.634Z"
   },
   {
    "duration": 29,
    "start_time": "2024-01-29T14:53:15.084Z"
   },
   {
    "duration": 20,
    "start_time": "2024-01-29T14:53:17.573Z"
   },
   {
    "duration": 21,
    "start_time": "2024-01-29T14:53:19.692Z"
   }
  ],
  "colab": {
   "name": "dpp_template_part2.ipynb",
   "provenance": []
  },
  "kernelspec": {
   "display_name": "Python 3 (ipykernel)",
   "language": "python",
   "name": "python3"
  },
  "language_info": {
   "codemirror_mode": {
    "name": "ipython",
    "version": 3
   },
   "file_extension": ".py",
   "mimetype": "text/x-python",
   "name": "python",
   "nbconvert_exporter": "python",
   "pygments_lexer": "ipython3",
   "version": "3.9.7"
  },
  "toc": {
   "base_numbering": 1,
   "nav_menu": {},
   "number_sections": true,
   "sideBar": true,
   "skip_h1_title": true,
   "title_cell": "Table of Contents",
   "title_sidebar": "Contents",
   "toc_cell": false,
   "toc_position": {},
   "toc_section_display": true,
   "toc_window_display": false
  }
 },
 "nbformat": 4,
 "nbformat_minor": 5
}
